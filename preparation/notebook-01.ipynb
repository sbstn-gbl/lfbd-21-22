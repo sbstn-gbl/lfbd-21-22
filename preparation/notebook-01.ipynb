{
 "cells": [
  {
   "cell_type": "markdown",
   "metadata": {},
   "source": [
    "# Notebook 1: ML Metrics\n",
    "\n",
    "In this notebook, you will manually implement _four_ important ML Metrics.\n",
    "\n",
    "Create your own implementations for the following four metrics:\n",
    "\n",
    "1. Binary Cross-Entropy Loss\n",
    "1. $R^2$ Score\n",
    "1. Silhouette Score\n",
    "1. Area Under the Receiver Operating Characteristic Curve (ROC AUC)\n",
    "\n",
    "Do ___not___ use existing libraries that contain metric implementations (e.g., `sklearn`).  The idea is that you implement solutions “manually,” e.g., using only `numpy` and/or `pandas`. After you have finished your implementation, verify the correctness of your solution by comparing your results to results produced by implementation in widely used python modules (e.g., `sklearn`, `statsmodels`, `scipy`).\n",
    "\n",
    "Bonus:\n",
    "- For each metric, (1) briefly explain in a few sentences what the metric evaluates, and (2) suggest two suitable applications in a marketing context.\n",
    "- Create a Python package for your metrics functions."
   ]
  },
  {
   "cell_type": "code",
   "execution_count": 1,
   "metadata": {},
   "outputs": [],
   "source": [
    "import common\n",
    "import matplotlib.pyplot as plt\n",
    "import numpy as np\n",
    "import pandas as pd\n",
    "import seaborn as sns\n",
    "import sklearn.cluster\n",
    "import sklearn.datasets\n",
    "import sklearn.linear_model\n",
    "import sklearn.metrics\n",
    "import sklearn.metrics.pairwise\n",
    "import sklearn.model_selection\n",
    "import statsmodels.regression"
   ]
  },
  {
   "cell_type": "markdown",
   "metadata": {},
   "source": [
    "<br>\n",
    "<br>\n",
    "\n",
    "## 1. &ensp; Binary Cross-Entropy Loss\n",
    "\n",
    "Equation for the binary cross-entropy loss:\n",
    "\n",
    "$\n",
    "\\quad{\\displaystyle Loss= - \\frac 1 N  \\sum_{i} y_i\\,\\log p(x_i) + (1-y_i)\\,\\log \\big(1-p(x_i)\\big)}\n",
    "$\n",
    "\n",
    "where <br>\n",
    "&emsp; $i$ is the index of a training sample (i.e., a pair of outcome and features), <br>\n",
    "&emsp; $y_i$ is the (binary) outcome variable for training sample $i$, <br>\n",
    "&emsp; $x_i$ is the vector of (one or more) features for training sample $i$, and <br>\n",
    "&emsp; $p(x_i)$ is the probability of observing a positive outcome for $y_i$ given the observed values for $x_i$.<br>\n",
    "\n",
    "Please have a look at [this blog post](https://towardsdatascience.com/understanding-binary-cross-entropy-log-loss-a-visual-explanation-a3ac6025181a) for some additional background.\n",
    "\n",
    "### Some questions to consider\n",
    "- Can you describe the data produced by the next cell? What type of data can the BCE loss be used for?\n",
    "- Can you describe the concept of entropy in words?\n",
    "- Looking at the formula for the BCE Loss, what edge cases should you consider in your implementation?\n",
    "\n",
    "### Simulate some data"
   ]
  },
  {
   "cell_type": "code",
   "execution_count": 2,
   "metadata": {},
   "outputs": [],
   "source": [
    "X, y = sklearn.datasets.make_classification(\n",
    "    n_samples=1_000,\n",
    "    n_classes=2,\n",
    "    n_features=20,\n",
    "    random_state=123,\n",
    ")\n",
    "X_train, X_test, y_train, y_test = sklearn.model_selection.train_test_split(\n",
    "    X,\n",
    "    y,\n",
    "    test_size=0.3,\n",
    "    random_state=123,\n",
    ")\n",
    "\n",
    "model1 = sklearn.linear_model.LogisticRegression()\n",
    "model1.fit(X_train, y_train)\n",
    "\n",
    "df = pd.DataFrame(\n",
    "    {\n",
    "        \"y\": y_test,\n",
    "        \"p\": model1.predict_proba(X_test)[:, 1],\n",
    "    }\n",
    ")"
   ]
  },
  {
   "cell_type": "markdown",
   "metadata": {},
   "source": [
    "### Implementation in `sklearn`"
   ]
  },
  {
   "cell_type": "code",
   "execution_count": 3,
   "metadata": {},
   "outputs": [
    {
     "data": {
      "text/plain": [
       "0.1565235277954947"
      ]
     },
     "execution_count": 3,
     "metadata": {},
     "output_type": "execute_result"
    }
   ],
   "source": [
    "loss_skl = sklearn.metrics.log_loss(df[\"y\"], df[\"p\"])\n",
    "loss_skl"
   ]
  },
  {
   "cell_type": "markdown",
   "metadata": {},
   "source": [
    "### Manual implementation"
   ]
  },
  {
   "cell_type": "code",
   "execution_count": 4,
   "metadata": {},
   "outputs": [],
   "source": [
    "# please add your custom implementation here"
   ]
  },
  {
   "cell_type": "markdown",
   "metadata": {},
   "source": [
    "<br>\n",
    "<br>\n",
    "\n",
    "## 2. &ensp; R<sup>2</sup> Score (Coefficient of Determination)\n",
    "\n",
    "### Mathematical\n",
    "\n",
    "Equation for coefficient of determination:\n",
    "\n",
    "$\n",
    "\\quad {\\displaystyle R^{2}=1-{SS_{\\rm {res}} \\over SS_{\\rm {tot}}}\\,}\n",
    "$\n",
    "\n",
    "with \n",
    "\n",
    "$\n",
    "\\quad {\\displaystyle \\color{red}{SS_{\\text{tot}}}=\\sum _{i}(y_{i}-{\\bar {y}})^{2}}\n",
    "$\n",
    "\n",
    "$\n",
    "\\quad {\\displaystyle \\color{blue}{SS_{\\text{res}}}=\\sum _{i}(y_{i}-f_{i})^{2}=\\sum _{i}e_{i}^{2}\\,}\n",
    "$\n",
    "\n",
    "$\n",
    "\\quad {\\bar {y}}={\\frac {1}{n}}\\displaystyle\\sum _{i=1}^{n}y_{i}\n",
    "$\n",
    "\n",
    "Here, <br>\n",
    "&emsp; $i$ is the index of a training sample, <br>\n",
    "&emsp; $y_i$ is the observed outcome variable for training sample $i$, and <br>\n",
    "&emsp; $f_i$ is the predicted outcome outcome for training sample $i$. <br>\n",
    "\n",
    "### Visual\n",
    "\n",
    "<img src=https://raw.githubusercontent.com/sbstn-gbl/learning-from-big-data/master/source/_static/img/r2.png width=\"700\">\n",
    "\n",
    "[(Source)](https://en.wikipedia.org/wiki/Coefficient_of_determination)\n",
    "\n",
    "###  Some questions to consider\n",
    "- Can you describe the coefficient of determination in words?\n",
    "- What does $e_{i}$ in the equations above represent?\n",
    "- How does the visualization relate to the equations above?\n",
    "- What data can the $R^2$ be used for?\n",
    "\n",
    "### Simulate some data"
   ]
  },
  {
   "cell_type": "code",
   "execution_count": 5,
   "metadata": {},
   "outputs": [
    {
     "data": {
      "text/plain": [
       "(array(74.2209235), array([74.05131859]))"
      ]
     },
     "execution_count": 5,
     "metadata": {},
     "output_type": "execute_result"
    }
   ],
   "source": [
    "X, y, coef = sklearn.datasets.make_regression(\n",
    "    n_samples=1_000,\n",
    "    n_features=1,\n",
    "    n_informative=1,\n",
    "    noise=10,\n",
    "    coef=True,\n",
    "    random_state=123,\n",
    ")\n",
    "\n",
    "lr = sklearn.linear_model.LinearRegression()\n",
    "lr_res = lr.fit(X, y)\n",
    "\n",
    "df = pd.DataFrame(\n",
    "    {\n",
    "        \"y\": y,\n",
    "        \"yhat\": lr.predict(X),\n",
    "    }\n",
    ")\n",
    "\n",
    "coef, lr.coef_"
   ]
  },
  {
   "cell_type": "markdown",
   "metadata": {},
   "source": [
    "### Visualize data"
   ]
  },
  {
   "cell_type": "code",
   "execution_count": 6,
   "metadata": {},
   "outputs": [
    {
     "data": {
      "image/png": "[encoded data removed]",
      "text/plain": [
       "<Figure size 648x648 with 1 Axes>"
      ]
     },
     "metadata": {},
     "output_type": "display_data"
    }
   ],
   "source": [
    "y_min = df.values.min()\n",
    "y_max = df.values.max()\n",
    "plt.plot(\n",
    "    [y_min, y_max],\n",
    "    [y_min, y_max],\n",
    "    color=\"navy\",\n",
    "    linestyle=\"--\",\n",
    ")\n",
    "sns.regplot(\n",
    "    x=\"y\",\n",
    "    y=\"yhat\",\n",
    "    data=df,\n",
    "    scatter_kws={\"alpha\": 0.2},\n",
    ")\n",
    "plt.xlabel(\"True\")\n",
    "plt.ylabel(\"Predicted\")\n",
    "plt.show()"
   ]
  },
  {
   "cell_type": "markdown",
   "metadata": {},
   "source": [
    "### Implementation in `sklearn`"
   ]
  },
  {
   "cell_type": "code",
   "execution_count": 7,
   "metadata": {},
   "outputs": [],
   "source": [
    "r2_skl = sklearn.metrics.r2_score(df[\"y\"], df[\"yhat\"])"
   ]
  },
  {
   "cell_type": "markdown",
   "metadata": {},
   "source": [
    "### Manual implementation"
   ]
  },
  {
   "cell_type": "code",
   "execution_count": 8,
   "metadata": {},
   "outputs": [],
   "source": [
    "# please add your implementation here"
   ]
  },
  {
   "cell_type": "markdown",
   "metadata": {},
   "source": [
    "<br>\n",
    "<br>\n",
    "\n",
    "## 3. &ensp; Silhouette\n",
    "\n",
    "### Mathematical\n",
    "\n",
    "For each point $i$ in your data set:\n",
    "\n",
    "$\n",
    "\\quad {\\displaystyle s(i)={\\frac {b(i)-a(i)}{\\max\\{a(i),b(i)\\}}}}\n",
    "$\n",
    "\n",
    "with\n",
    "\n",
    "$\n",
    "\\quad {\\displaystyle a(i)={\\frac {1}{|C_{i}|-1}}\\sum _{j\\in C_{i},\\ i\\neq j}d(i,j)}\n",
    "$\n",
    "\n",
    "$\n",
    "\\quad {\\displaystyle b(i)=\\min _{k\\neq i}{\\frac {1}{|C_{k}|}}\\sum _{j\\in C_{k}}d(i,j)}\n",
    "$\n",
    "\n",
    "Here, <br>\n",
    "&emsp; $i$ is the index of a point in your data set, <br>\n",
    "&emsp; $d(i,j)$ is the distance between point $i$ and point $j$, <br>\n",
    "&emsp; $C_{i}$ denotes the cluster that contains point $i$, and <br>\n",
    "&emsp; $C_{k}$ denotes cluster $C_{i}$'s neighboring cluster (the cluster with the smallest mean distance of $i$ to all points in the second cluster). <br>\n",
    "\n",
    "Please also have a look at [this sklearn tutorial](https://scikit-learn.org/stable/auto_examples/cluster/plot_kmeans_silhouette_analysis.html#sphx-glr-auto-examples-cluster-plot-kmeans-silhouette-analysis-py) to see how the silhouette score is used in practice.\n",
    "\n",
    "### Visual\n",
    "\n",
    "<img src=https://raw.githubusercontent.com/sbstn-gbl/learning-from-big-data/master/source/_static/img/silhouette.png width=\"600\">\n",
    "\n",
    "### Some questions to consider\n",
    "- How do you aggregate the point-level silhouette scores to a global value across all points?\n",
    "- Can you describe what the silhouette score represents in words?\n",
    "- What are $a(i)$ and $b(i)$?\n",
    "- How does the visualization relate to the equations above?\n",
    "\n",
    "### Simulate some data"
   ]
  },
  {
   "cell_type": "code",
   "execution_count": 9,
   "metadata": {},
   "outputs": [],
   "source": [
    "X, y = sklearn.datasets.make_blobs(\n",
    "    n_samples=1_000,\n",
    "    n_features=2,\n",
    "    centers=4,\n",
    "    cluster_std=1,\n",
    "    center_box=(-10.0, 10.0),\n",
    "    shuffle=True,\n",
    "    random_state=123,\n",
    ")"
   ]
  },
  {
   "cell_type": "markdown",
   "metadata": {},
   "source": [
    "### Implementation in `sklearn`"
   ]
  },
  {
   "cell_type": "code",
   "execution_count": 10,
   "metadata": {},
   "outputs": [
    {
     "data": {
      "text/plain": [
       "0.7572367858256333"
      ]
     },
     "execution_count": 10,
     "metadata": {},
     "output_type": "execute_result"
    }
   ],
   "source": [
    "clusterer = sklearn.cluster.KMeans(\n",
    "    n_clusters=3,\n",
    "    random_state=123,\n",
    ")\n",
    "cluster_labels = clusterer.fit_predict(X)\n",
    "sil_skl = sklearn.metrics.silhouette_score(\n",
    "    X,\n",
    "    cluster_labels,\n",
    ")\n",
    "sil_skl"
   ]
  },
  {
   "cell_type": "code",
   "execution_count": 11,
   "metadata": {},
   "outputs": [
    {
     "data": {
      "text/plain": [
       "array([0.73025532, 0.82151605, 0.69703736, 0.63047648, 0.72695219,\n",
       "       0.72826653, 0.80876974, 0.46690515, 0.74743392, 0.75717757])"
      ]
     },
     "execution_count": 11,
     "metadata": {},
     "output_type": "execute_result"
    }
   ],
   "source": [
    "sil_samples_skl = sklearn.metrics.silhouette_samples(\n",
    "    X,\n",
    "    cluster_labels,\n",
    ")\n",
    "sil_samples_skl[:10]"
   ]
  },
  {
   "cell_type": "markdown",
   "metadata": {},
   "source": [
    "### Manual implementation"
   ]
  },
  {
   "cell_type": "code",
   "execution_count": 12,
   "metadata": {},
   "outputs": [],
   "source": [
    "# please add your implementation here"
   ]
  },
  {
   "cell_type": "markdown",
   "metadata": {},
   "source": [
    "<br>\n",
    "<br>\n",
    "\n",
    "## 4. &ensp; AUROC\n",
    "\n",
    "From `sklearn` ([Source](https://scikit-learn.org/stable/modules/model_evaluation.html#roc-metrics)):\n",
    "> A receiver operating characteristic (ROC), or simply ROC curve, is a graphical plot which illustrates the performance of a binary classifier system as its discrimination threshold is varied. It is created by plotting the fraction of true positives out of the positives (TPR = true positive rate) vs. the fraction of false positives out of the negatives (FPR = false positive rate), at various threshold settings. TPR is also known as sensitivity, and FPR is one minus the specificity or true negative rate. [...] The roc_auc_score function computes the area under the receiver operating characteristic (ROC) curve, which is also denoted by AUC or AUROC.\n",
    "\n",
    "### Confusion matrix\n",
    "\n",
    "<img src=https://raw.githubusercontent.com/sbstn-gbl/learning-from-big-data/master/source/_static/img/confusion.png width=\"1300\">\n",
    "\n",
    "[(Source)](https://en.wikipedia.org/wiki/Confusion_matrix)\n",
    "\n",
    "\n",
    "### Some questions to consider\n",
    "- What is a key advantage of the AUROC score?\n",
    "- How is the AUROC related to the confusion matrix?\n",
    "- What other AUC metrics do you know?\n",
    "\n",
    "### Simulate some data"
   ]
  },
  {
   "cell_type": "code",
   "execution_count": 13,
   "metadata": {},
   "outputs": [],
   "source": [
    "X, y = sklearn.datasets.make_classification(\n",
    "    n_samples=1_000,\n",
    "    n_classes=2,\n",
    "    n_features=20,\n",
    "    random_state=123,\n",
    ")\n",
    "X_train, X_test, y_train, y_test = sklearn.model_selection.train_test_split(\n",
    "    X,\n",
    "    y,\n",
    "    test_size=0.3,\n",
    "    random_state=123,\n",
    ")\n",
    "\n",
    "model1 = sklearn.linear_model.LogisticRegression()\n",
    "model1.fit(X_train, y_train)\n",
    "\n",
    "df = pd.DataFrame({\"y\": y_test, \"p\": model1.predict_proba(X_test)[:, 1]})"
   ]
  },
  {
   "cell_type": "markdown",
   "metadata": {},
   "source": [
    "### Implementation in `sklearn`"
   ]
  },
  {
   "cell_type": "code",
   "execution_count": 14,
   "metadata": {},
   "outputs": [
    {
     "data": {
      "text/plain": [
       "0.9850573174539453"
      ]
     },
     "execution_count": 14,
     "metadata": {},
     "output_type": "execute_result"
    }
   ],
   "source": [
    "auc_skl = sklearn.metrics.roc_auc_score(df[\"y\"], df[\"p\"])\n",
    "auc_skl"
   ]
  },
  {
   "cell_type": "code",
   "execution_count": 15,
   "metadata": {},
   "outputs": [],
   "source": [
    "fpr_skl, tpr_skl, _ = sklearn.metrics.roc_curve(df[\"y\"], df[\"p\"])"
   ]
  },
  {
   "cell_type": "markdown",
   "metadata": {},
   "source": [
    "### Plot ROC Curve"
   ]
  },
  {
   "cell_type": "code",
   "execution_count": 16,
   "metadata": {},
   "outputs": [],
   "source": [
    "def plot_roc_curve(fpr, tpr):\n",
    "    plt.plot(fpr, tpr, color=\"darkorange\", lw=2)\n",
    "    plt.plot([0, 1], [0, 1], color=\"navy\", lw=2, linestyle=\"--\")\n",
    "    plt.xlim([0.0, 1.0])\n",
    "    plt.ylim([0.0, 1.05])\n",
    "    plt.xlabel(\"False Positive Rate\")\n",
    "    plt.ylabel(\"True Positive Rate\")\n",
    "    plt.title(\"Receiver Operating Characteristic Curve\")\n",
    "    plt.show()"
   ]
  },
  {
   "cell_type": "code",
   "execution_count": 17,
   "metadata": {},
   "outputs": [
    {
     "data": {
      "image/png": "[encoded data removed]",
      "text/plain": [
       "<Figure size 648x648 with 1 Axes>"
      ]
     },
     "metadata": {},
     "output_type": "display_data"
    }
   ],
   "source": [
    "plot_roc_curve(fpr_skl, tpr_skl)"
   ]
  },
  {
   "cell_type": "markdown",
   "metadata": {},
   "source": [
    "### Manual implementation"
   ]
  },
  {
   "cell_type": "code",
   "execution_count": 18,
   "metadata": {},
   "outputs": [],
   "source": [
    "# please add your implementation here"
   ]
  },
  {
   "cell_type": "markdown",
   "metadata": {},
   "source": [
    "<br>\n",
    "<br>\n",
    "&mdash; <br>\n",
    "Sebastian Gabel <br>\n",
    "`Learning from Big Data` 2021/22 <br>"
   ]
  }
 ],
 "metadata": {
  "kernelspec": {
   "display_name": "Python 3",
   "language": "python",
   "name": "python3"
  },
  "language_info": {
   "codemirror_mode": {
    "name": "ipython",
    "version": 3
   },
   "file_extension": ".py",
   "mimetype": "text/x-python",
   "name": "python",
   "nbconvert_exporter": "python",
   "pygments_lexer": "ipython3",
   "version": "3.8.2"
  }
 },
 "nbformat": 4,
 "nbformat_minor": 4
}

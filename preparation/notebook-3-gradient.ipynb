{
 "cells": [
  {
   "cell_type": "markdown",
   "metadata": {},
   "source": [
    "# Notebook 3: Gradient Descent\n",
    "\n",
    "In this notebook, you will manually implement inference for a ___linear model___ using gradient descent.\n",
    "\n",
    "Please create a Python class `LinearModel` that contains (at least) the following methods:\n",
    "1. `__init__`\n",
    "1. `train`: Parameter inferences based on target variable (`y`) and feature (`x`) data sets\n",
    "1. `predict`: Predict target variable for a (new) feature data set (`x`)\n",
    "1. `coef`: returns the estimated coefficients\n",
    "1. `cost`: returns the final value for the cost function for the training data set"
   ]
  },
  {
   "cell_type": "code",
   "execution_count": 1,
   "metadata": {},
   "outputs": [],
   "source": [
    "import common\n",
    "import matplotlib.animation\n",
    "import matplotlib.gridspec\n",
    "import matplotlib.pyplot as plt\n",
    "import numpy as np\n",
    "import pandas as pd\n",
    "import sklearn.linear_model  # our reference solution"
   ]
  },
  {
   "cell_type": "markdown",
   "metadata": {},
   "source": [
    "## Mathematical background <a id='mathematical_background'></a>\n",
    "\n",
    "### Formal representation of the problem\n",
    "\n",
    "Let's look at a linear model\n",
    "\n",
    "$\n",
    "\\quad y_i = w\\, x_i + b\n",
    "$\n",
    "\n",
    "that represents our hypothesis $h$.\n",
    "\n",
    "Here, \n",
    "\n",
    "- $y_i$ is the dependent variable,\n",
    "- $x_i$ the feature vector, and\n",
    "- $b$ (intercept) and $w$ (slope) are the coefficients (or weights).\n",
    "\n",
    "### Cost function\n",
    "\n",
    "We want to find coefficients $b$ and $w$ that make $h(x_i)$ similar to $y_i$ (for the training samples in $\\mathcal{X}$). This guides our choice for the cost function $J$. \n",
    "\n",
    "With\n",
    "- the prediction $\\hat y_i$ and\n",
    "- the prediction error $e_i$\n",
    "\n",
    "follows\n",
    "\n",
    "$\n",
    "\\quad J(b,w) \\\\\n",
    "\\quad\\quad = \\displaystyle \\frac 1 n \\sum_{i=1}^{n} e_i^2 \\\\\n",
    "\\quad\\quad = \\displaystyle \\frac 1 n \\sum_{i=1}^{n} (y_i - \\hat y_i)^2 \\\\\n",
    "\\quad\\quad = \\displaystyle \\frac 1 n \\sum_{i=1}^{n} (y_i - (w\\, x_i + b))^2\n",
    "$\n",
    "\n",
    "### Update equations\n",
    "\n",
    "Gradient descent starts with an initial guess for $b$ and $w$ and then iterates to minimize $J$. With the learning rate $\\alpha$, we have the following weight upgrade equations\n",
    "\n",
    "$\n",
    "\\quad\\displaystyle w' = w - \\alpha\\,\\partial_w J(b,\\,w)\n",
    "$\n",
    "\n",
    "and\n",
    "\n",
    "$\n",
    "\\quad\\displaystyle b' = b - \\alpha\\, \\partial_b J(b,\\,w)\n",
    "$\n",
    "\n",
    "where $\\partial_w J(b,\\,w)$ and $\\partial_b J(b,\\,w)$ are the partial derivatives of the cost function with regard our parameters $w$ and $b$.\n",
    "\n",
    "The partial derivatives of $J$ are\n",
    "\n",
    "$\n",
    "\\quad \\nabla J(b,\\,w) \\\\\n",
    "\\quad\\quad = \\begin{bmatrix} \\partial_b J(b,w) \\\\ \\partial_w J(b,w) \\end{bmatrix} \\\\\n",
    "\\quad\\quad = \\begin{bmatrix}\n",
    "        \\displaystyle\\frac 2 n \\sum_{i=1}^{n} -    (y_i - (w\\, x_i + b)) \\\\\n",
    "        \\displaystyle\\frac 2 n \\sum_{i=1}^{n} -x_i (y_i - (w\\, x_i + b))\n",
    "\\end{bmatrix} \n",
    "$\n",
    "\n",
    "Some notes:\n",
    "- Gradient descent repeatedly takes a step in the direction of steepest decrease of $J$ (as the name suggests).\n",
    "- The magnitude of the update is proportional to the prediction error.\n",
    "\n",
    "### Example visualization\n",
    "\n",
    "This example visualization shows how gradient descent minimizes the squared errors. Here, $b$ is set to 0 and $w$ is 1.\n",
    "\n",
    "<img src=\"https://raw.githubusercontent.com/sbstn-gbl/learning-from-big-data/master/source/_static/img/variance-explained.gif\" width=\"500\">\n",
    "\n",
    "[(Source)](https://mlfromscratch.com/linear-regression-from-scratch/)\n",
    "\n",
    "## Simulate some data\n",
    "\n",
    "Our data generating process is a linear model\n",
    "\n",
    "$\n",
    "\\quad y_i = w\\, x_i + b + \\epsilon\n",
    "$\n",
    "\n",
    "We'll use\n",
    "\n",
    "- $b^{true} = 3$\n",
    "- $w^{true} = -3$\n",
    "- $\\varepsilon \\sim \\mathcal{N}(\\mu_{\\varepsilon}, \\sigma_{\\varepsilon})$ with $\\mu_{\\varepsilon}=0$ and $\\sigma_{\\varepsilon}=1$"
   ]
  },
  {
   "cell_type": "code",
   "execution_count": 2,
   "metadata": {},
   "outputs": [],
   "source": [
    "# input\n",
    "N = 100  # number of observations\n",
    "b_true = 3  # offset\n",
    "w_true = -3  # slope\n",
    "sigma_err = 1  # standard deviation of error term"
   ]
  },
  {
   "cell_type": "code",
   "execution_count": 3,
   "metadata": {},
   "outputs": [],
   "source": [
    "# set seed for reproducibility\n",
    "np.random.seed(123)"
   ]
  },
  {
   "cell_type": "code",
   "execution_count": 4,
   "metadata": {},
   "outputs": [
    {
     "data": {
      "image/png": "[encoded data removed]",
      "text/plain": [
       "<Figure size 648x648 with 1 Axes>"
      ]
     },
     "metadata": {},
     "output_type": "display_data"
    }
   ],
   "source": [
    "# error term\n",
    "err = np.random.normal(0, sigma_err, N)\n",
    "plt.hist(err)\n",
    "plt.xlabel(r\"Error term $\\varepsilon$\")\n",
    "plt.ylabel(\"Count\")\n",
    "plt.show()"
   ]
  },
  {
   "cell_type": "code",
   "execution_count": 5,
   "metadata": {},
   "outputs": [
    {
     "data": {
      "image/png": "[encoded data removed]",
      "text/plain": [
       "<Figure size 648x648 with 1 Axes>"
      ]
     },
     "metadata": {},
     "output_type": "display_data"
    }
   ],
   "source": [
    "# features\n",
    "x = np.random.normal(2, 2, N)\n",
    "plt.hist(x)\n",
    "plt.xlabel(r\"Feature $x$\")\n",
    "plt.ylabel(\"Count\")\n",
    "plt.show()"
   ]
  },
  {
   "cell_type": "code",
   "execution_count": 6,
   "metadata": {},
   "outputs": [],
   "source": [
    "# compute dependent variable\n",
    "y = w_true * x + b_true + err"
   ]
  },
  {
   "cell_type": "markdown",
   "metadata": {},
   "source": [
    "## Implementation in `sklearn`\n",
    "\n",
    "Let's check whether the true parameters can be inferred from the data."
   ]
  },
  {
   "cell_type": "code",
   "execution_count": 7,
   "metadata": {},
   "outputs": [
    {
     "name": "stdout",
     "output_type": "stream",
     "text": [
      "b_hat =  3.05\n",
      "w_hat = -3.01\n"
     ]
    }
   ],
   "source": [
    "res_sklearn = sklearn.linear_model.LinearRegression().fit(x.reshape(-1, 1), y.reshape(-1, 1))\n",
    "print(f\"b_hat = {res_sklearn.intercept_[0]: .2f}\")\n",
    "print(f\"w_hat = {res_sklearn.coef_[0][0]: .2f}\")"
   ]
  },
  {
   "cell_type": "markdown",
   "metadata": {},
   "source": [
    "## Manual implementation"
   ]
  },
  {
   "cell_type": "code",
   "execution_count": 8,
   "metadata": {},
   "outputs": [],
   "source": [
    "# please add your custom implementation here"
   ]
  },
  {
   "cell_type": "markdown",
   "metadata": {},
   "source": [
    "## Additional scope\n",
    "\n",
    "### Comparison of different gradient descent methods\n",
    "\n",
    "We differentiate three approaches to implement gradient descent:\n",
    "1. Batch gradient descent\n",
    "2. Stochastic gradient descent\n",
    "3. Mini-batch gradient descent\n",
    "\n",
    "<img src=\"https://raw.githubusercontent.com/sbstn-gbl/learning-from-big-data/master/source/_static/img/gradient-descent.png\" width=\"900\">\n",
    "\n",
    "Extend your implementation above to support all three versions of gradient descent.\n",
    "\n",
    "Some questions to consider:\n",
    "- What are the advantages/disadvantages of the different gradient descent methods?\n",
    "- What do you need to change in your implementation for other models, e.g., binary logistic regression?\n",
    "- In the above picture we sum over the partial derivatives, instead of averaging the individual values (compare section [Mathematical background](#mathematical_background)). Why is that ok?\n",
    "\n",
    "### Some notable extensions and variants of gradient descent\n",
    "\n",
    "- Gradient descent with momentum\n",
    "- Averaged gradient descent\n",
    "- AdaGrad\n",
    "- RMSProp\n",
    "- Adam\n",
    "\n",
    "Check the documentation of neural network frameworks (e.g., PyTorch, Keras)."
   ]
  },
  {
   "cell_type": "markdown",
   "metadata": {},
   "source": [
    "<br>\n",
    "<br>\n",
    "&mdash; <br>\n",
    "Sebastian Gabel <br>\n",
    "`Learning from Big Data` 2021/22 <br>"
   ]
  }
 ],
 "metadata": {
  "kernelspec": {
   "display_name": "Python 3",
   "language": "python",
   "name": "python3"
  },
  "language_info": {
   "codemirror_mode": {
    "name": "ipython",
    "version": 3
   },
   "file_extension": ".py",
   "mimetype": "text/x-python",
   "name": "python",
   "nbconvert_exporter": "python",
   "pygments_lexer": "ipython3",
   "version": "3.8.2"
  }
 },
 "nbformat": 4,
 "nbformat_minor": 4
}

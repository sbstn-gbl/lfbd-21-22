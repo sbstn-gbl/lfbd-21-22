{
 "cells": [
  {
   "cell_type": "markdown",
   "id": "529963c6-77f4-42f7-847f-eade9944e28f",
   "metadata": {},
   "source": [
    "# P2V-MAP data streamer"
   ]
  },
  {
   "cell_type": "code",
   "execution_count": 1,
   "id": "2a7c25d4-bba6-4daf-ad9f-b53a832dc35b",
   "metadata": {},
   "outputs": [],
   "source": [
    "import os\n",
    "\n",
    "import pandas as pd\n",
    "import p2vmap_data_streamer"
   ]
  },
  {
   "cell_type": "code",
   "execution_count": 2,
   "id": "a252b917-d48f-4af0-948d-3ea8c23473d2",
   "metadata": {},
   "outputs": [],
   "source": [
    "# the path that contains the data\n",
    "path = os.path.expandvars(\"~/Dropbox/teaching/big-data/data/dr-g/upload\")"
   ]
  },
  {
   "cell_type": "markdown",
   "id": "4c86c449-75a8-4322-934a-edf5141f253c",
   "metadata": {},
   "source": [
    "## Data"
   ]
  },
  {
   "cell_type": "code",
   "execution_count": 3,
   "id": "4c11ebfc-e1a7-413d-96c0-57712ae47cc2",
   "metadata": {},
   "outputs": [
    {
     "data": {
      "text/html": [
       "<div>\n",
       "<style scoped>\n",
       "    .dataframe tbody tr th:only-of-type {\n",
       "        vertical-align: middle;\n",
       "    }\n",
       "\n",
       "    .dataframe tbody tr th {\n",
       "        vertical-align: top;\n",
       "    }\n",
       "\n",
       "    .dataframe thead th {\n",
       "        text-align: right;\n",
       "    }\n",
       "</style>\n",
       "<table border=\"1\" class=\"dataframe\">\n",
       "  <thead>\n",
       "    <tr style=\"text-align: right;\">\n",
       "      <th></th>\n",
       "      <th>customer</th>\n",
       "      <th>product</th>\n",
       "      <th>basket</th>\n",
       "    </tr>\n",
       "  </thead>\n",
       "  <tbody>\n",
       "    <tr>\n",
       "      <th>0</th>\n",
       "      <td>0</td>\n",
       "      <td>51</td>\n",
       "      <td>00000000</td>\n",
       "    </tr>\n",
       "    <tr>\n",
       "      <th>1</th>\n",
       "      <td>0</td>\n",
       "      <td>113</td>\n",
       "      <td>00000000</td>\n",
       "    </tr>\n",
       "    <tr>\n",
       "      <th>2</th>\n",
       "      <td>0</td>\n",
       "      <td>154</td>\n",
       "      <td>00000000</td>\n",
       "    </tr>\n",
       "    <tr>\n",
       "      <th>3</th>\n",
       "      <td>0</td>\n",
       "      <td>165</td>\n",
       "      <td>00000000</td>\n",
       "    </tr>\n",
       "    <tr>\n",
       "      <th>4</th>\n",
       "      <td>0</td>\n",
       "      <td>185</td>\n",
       "      <td>00000000</td>\n",
       "    </tr>\n",
       "  </tbody>\n",
       "</table>\n",
       "</div>"
      ],
      "text/plain": [
       "   customer  product    basket\n",
       "0         0       51  00000000\n",
       "1         0      113  00000000\n",
       "2         0      154  00000000\n",
       "3         0      165  00000000\n",
       "4         0      185  00000000"
      ]
     },
     "execution_count": 3,
     "metadata": {},
     "output_type": "execute_result"
    }
   ],
   "source": [
    "baskets = pd.read_parquet(f\"{path}/market-baskets.parquet\")\n",
    "baskets = baskets.head(1_000)\n",
    "baskets = baskets[baskets.groupby(\"basket\")[\"product\"].transform(\"nunique\")>2]\n",
    "baskets.head()"
   ]
  },
  {
   "cell_type": "code",
   "execution_count": 4,
   "id": "3da5b3ec-1b0a-4768-a3fc-38940fd64a02",
   "metadata": {},
   "outputs": [
    {
     "data": {
      "text/html": [
       "<div>\n",
       "<style scoped>\n",
       "    .dataframe tbody tr th:only-of-type {\n",
       "        vertical-align: middle;\n",
       "    }\n",
       "\n",
       "    .dataframe tbody tr th {\n",
       "        vertical-align: top;\n",
       "    }\n",
       "\n",
       "    .dataframe thead th {\n",
       "        text-align: right;\n",
       "    }\n",
       "</style>\n",
       "<table border=\"1\" class=\"dataframe\">\n",
       "  <thead>\n",
       "    <tr style=\"text-align: right;\">\n",
       "      <th></th>\n",
       "      <th>customer</th>\n",
       "      <th>product</th>\n",
       "      <th>basket</th>\n",
       "    </tr>\n",
       "  </thead>\n",
       "  <tbody>\n",
       "    <tr>\n",
       "      <th>0</th>\n",
       "      <td>0</td>\n",
       "      <td>51</td>\n",
       "      <td>00000000</td>\n",
       "    </tr>\n",
       "    <tr>\n",
       "      <th>1</th>\n",
       "      <td>0</td>\n",
       "      <td>113</td>\n",
       "      <td>00000000</td>\n",
       "    </tr>\n",
       "    <tr>\n",
       "      <th>2</th>\n",
       "      <td>0</td>\n",
       "      <td>154</td>\n",
       "      <td>00000000</td>\n",
       "    </tr>\n",
       "    <tr>\n",
       "      <th>3</th>\n",
       "      <td>0</td>\n",
       "      <td>165</td>\n",
       "      <td>00000000</td>\n",
       "    </tr>\n",
       "    <tr>\n",
       "      <th>4</th>\n",
       "      <td>0</td>\n",
       "      <td>185</td>\n",
       "      <td>00000000</td>\n",
       "    </tr>\n",
       "    <tr>\n",
       "      <th>5</th>\n",
       "      <td>0</td>\n",
       "      <td>253</td>\n",
       "      <td>00000000</td>\n",
       "    </tr>\n",
       "    <tr>\n",
       "      <th>6</th>\n",
       "      <td>0</td>\n",
       "      <td>266</td>\n",
       "      <td>00000000</td>\n",
       "    </tr>\n",
       "  </tbody>\n",
       "</table>\n",
       "</div>"
      ],
      "text/plain": [
       "   customer  product    basket\n",
       "0         0       51  00000000\n",
       "1         0      113  00000000\n",
       "2         0      154  00000000\n",
       "3         0      165  00000000\n",
       "4         0      185  00000000\n",
       "5         0      253  00000000\n",
       "6         0      266  00000000"
      ]
     },
     "execution_count": 4,
     "metadata": {},
     "output_type": "execute_result"
    }
   ],
   "source": [
    "baskets[baskets[\"basket\"]==\"00000000\"]"
   ]
  },
  {
   "cell_type": "markdown",
   "id": "68e53e6d-c595-498b-93d1-ead56f210f2d",
   "metadata": {},
   "source": [
    "## Initialize streamer"
   ]
  },
  {
   "cell_type": "code",
   "execution_count": 5,
   "id": "e9d1b335-eb15-4499-a279-f666264c228a",
   "metadata": {},
   "outputs": [],
   "source": [
    "data_stream_p2v = p2vmap_data_streamer.DataStreamP2V(\n",
    "    data=baskets,\n",
    "    variable_basket=\"basket\",\n",
    "    variable_product=\"product\",\n",
    "    batch_size=4,\n",
    "    shuffle=False,\n",
    "    n_negative_samples=4,\n",
    ")"
   ]
  },
  {
   "cell_type": "markdown",
   "id": "dd2e78a0-9953-4cd5-8eb1-f6b515f8179b",
   "metadata": {},
   "source": [
    "## Generate one batch"
   ]
  },
  {
   "cell_type": "code",
   "execution_count": 6,
   "id": "e47b72f0-4d30-4fa8-bc09-8db05c63fee6",
   "metadata": {},
   "outputs": [],
   "source": [
    "center_products, context_products, negative_samples = data_stream_p2v.generate_batch()"
   ]
  },
  {
   "cell_type": "code",
   "execution_count": 7,
   "id": "08e2e5ee-ac83-4051-a516-3955a75b0406",
   "metadata": {},
   "outputs": [
    {
     "data": {
      "text/plain": [
       "array([51, 51, 51, 51])"
      ]
     },
     "execution_count": 7,
     "metadata": {},
     "output_type": "execute_result"
    }
   ],
   "source": [
    "center_products"
   ]
  },
  {
   "cell_type": "code",
   "execution_count": 8,
   "id": "c3585235-520a-4268-906f-7e74edfb8727",
   "metadata": {},
   "outputs": [
    {
     "data": {
      "text/plain": [
       "array([113, 154, 165, 185])"
      ]
     },
     "execution_count": 8,
     "metadata": {},
     "output_type": "execute_result"
    }
   ],
   "source": [
    "context_products"
   ]
  },
  {
   "cell_type": "code",
   "execution_count": 9,
   "id": "51bd94c9-7cae-47ed-b72f-a726e8c5da02",
   "metadata": {},
   "outputs": [
    {
     "data": {
      "text/plain": [
       "array([[241, 189, 110, 107],\n",
       "       [  6,  25, 105, 293],\n",
       "       [226,  37, 136, 139],\n",
       "       [145, 141,  71, 151]], dtype=int32)"
      ]
     },
     "execution_count": 9,
     "metadata": {},
     "output_type": "execute_result"
    }
   ],
   "source": [
    "negative_samples"
   ]
  },
  {
   "cell_type": "markdown",
   "id": "a4590c27-44cd-4117-91ba-60c7166663e1",
   "metadata": {},
   "source": [
    "\n",
    "<br>\n",
    "<br>\n",
    "&mdash; <br>\n",
    "Sebastian Gabel <br>\n",
    "`Learning from Big Data` 2021/22"
   ]
  }
 ],
 "metadata": {
  "kernelspec": {
   "display_name": "Python 3",
   "language": "python",
   "name": "python3"
  },
  "language_info": {
   "codemirror_mode": {
    "name": "ipython",
    "version": 3
   },
   "file_extension": ".py",
   "mimetype": "text/x-python",
   "name": "python",
   "nbconvert_exporter": "python",
   "pygments_lexer": "ipython3",
   "version": "3.8.2"
  }
 },
 "nbformat": 4,
 "nbformat_minor": 5
}

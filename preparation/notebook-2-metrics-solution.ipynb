{
 "cells": [
  {
   "cell_type": "markdown",
   "metadata": {},
   "source": [
    "# Notebook 2: ML Metrics\n",
    "\n",
    "In this notebook, you will manually implement _four_ important ML Metrics.\n",
    "\n",
    "Create your own implementations for the following four metrics:\n",
    "\n",
    "1. Binary Cross-Entropy Loss\n",
    "1. $R^2$ Score\n",
    "1. Silhouette Score\n",
    "1. Area Under the Receiver Operating Characteristic Curve (ROC AUC)\n",
    "\n",
    "Do ___not___ use existing libraries that contain metric implementations (e.g., `sklearn`).  The idea is that you implement solutions “manually,” e.g., using only `numpy` and/or `pandas`. After you have finished your implementation, verify the correctness of your solution by comparing your results to results produced by implementation in widely used python modules (e.g., `sklearn`, `statsmodels`, `scipy`).\n",
    "\n",
    "Bonus:\n",
    "- For each metric, (1) briefly explain in a few sentences what the metric evaluates, and (2) suggest two suitable applications in a marketing context.\n",
    "- Create a Python package for your metrics functions."
   ]
  },
  {
   "cell_type": "code",
   "execution_count": 1,
   "metadata": {},
   "outputs": [],
   "source": [
    "import common\n",
    "import matplotlib.pyplot as plt\n",
    "import numpy as np\n",
    "import pandas as pd\n",
    "import seaborn as sns\n",
    "import sklearn.cluster\n",
    "import sklearn.datasets\n",
    "import sklearn.linear_model\n",
    "import sklearn.metrics\n",
    "import sklearn.metrics.pairwise\n",
    "import sklearn.model_selection\n",
    "import statsmodels.regression"
   ]
  },
  {
   "cell_type": "markdown",
   "metadata": {},
   "source": [
    "<br>\n",
    "<br>\n",
    "\n",
    "## 1. &ensp; Binary Cross-Entropy Loss\n",
    "\n",
    "Equation for the binary cross-entropy loss:\n",
    "\n",
    "$\n",
    "\\quad{\\displaystyle Loss= - \\frac 1 N  \\sum_{i} y_i\\,\\log p(x_i) + (1-y_i)\\,\\log \\big(1-p(x_i)\\big)}\n",
    "$\n",
    "\n",
    "where <br>\n",
    "&emsp; $i$ is the index of a training sample (i.e., a pair of outcome and features), <br>\n",
    "&emsp; $y_i$ is the (binary) outcome variable for training sample $i$, <br>\n",
    "&emsp; $x_i$ is the vector of (one or more) features for training sample $i$, and <br>\n",
    "&emsp; $p(x_i)$ is the probability of observing a positive outcome for $y_i$ given the observed values for $x_i$.<br>\n",
    "\n",
    "Please have a look at [this blog post](https://towardsdatascience.com/understanding-binary-cross-entropy-log-loss-a-visual-explanation-a3ac6025181a) for some additional background.\n",
    "\n",
    "### Some questions to consider\n",
    "- Can you describe the data produced by the next cell? What type of data can the BCE loss be used for?\n",
    "- Can you describe the concept of entropy in words?\n",
    "- Looking at the formula for the BCE Loss, what edge cases should you consider in your implementation?\n",
    "\n",
    "### Simulate some data"
   ]
  },
  {
   "cell_type": "code",
   "execution_count": 2,
   "metadata": {},
   "outputs": [],
   "source": [
    "X, y = sklearn.datasets.make_classification(\n",
    "    n_samples=1_000,\n",
    "    n_classes=2,\n",
    "    n_features=20,\n",
    "    random_state=123,\n",
    ")\n",
    "X_train, X_test, y_train, y_test = sklearn.model_selection.train_test_split(\n",
    "    X,\n",
    "    y,\n",
    "    test_size=0.3,\n",
    "    random_state=123,\n",
    ")\n",
    "\n",
    "model1 = sklearn.linear_model.LogisticRegression()\n",
    "model1.fit(X_train, y_train)\n",
    "\n",
    "df = pd.DataFrame(\n",
    "    {\n",
    "        \"y\": y_test,\n",
    "        \"p\": model1.predict_proba(X_test)[:, 1],\n",
    "    }\n",
    ")"
   ]
  },
  {
   "cell_type": "markdown",
   "metadata": {},
   "source": [
    "### Implementation in `sklearn`"
   ]
  },
  {
   "cell_type": "code",
   "execution_count": 3,
   "metadata": {},
   "outputs": [
    {
     "data": {
      "text/plain": [
       "0.1565235277954947"
      ]
     },
     "execution_count": 3,
     "metadata": {},
     "output_type": "execute_result"
    }
   ],
   "source": [
    "loss_skl = sklearn.metrics.log_loss(df[\"y\"], df[\"p\"])\n",
    "loss_skl"
   ]
  },
  {
   "cell_type": "markdown",
   "metadata": {},
   "source": [
    "### Manual implementation"
   ]
  },
  {
   "cell_type": "code",
   "execution_count": 4,
   "metadata": {},
   "outputs": [
    {
     "data": {
      "text/plain": [
       "0.1565235277954947"
      ]
     },
     "execution_count": 4,
     "metadata": {},
     "output_type": "execute_result"
    }
   ],
   "source": [
    "df_loss = df.copy()\n",
    "df_loss[\"loss_i\"] = -(\n",
    "    df_loss[\"y\"] * np.log(df_loss[\"p\"]) + (1 - df_loss[\"y\"]) * np.log(1 - df_loss[\"p\"])\n",
    ")\n",
    "loss = df_loss[\"loss_i\"].mean()\n",
    "loss"
   ]
  },
  {
   "cell_type": "code",
   "execution_count": 5,
   "metadata": {},
   "outputs": [],
   "source": [
    "assert np.abs(loss - loss_skl) < 1e-12"
   ]
  },
  {
   "cell_type": "markdown",
   "metadata": {},
   "source": [
    "<br>\n",
    "<br>\n",
    "\n",
    "## 2. &ensp; R<sup>2</sup> Score (Coefficient of Determination)\n",
    "\n",
    "### Mathematical\n",
    "\n",
    "Equation for coefficient of determination:\n",
    "\n",
    "$\n",
    "\\quad {\\displaystyle R^{2}=1-{SS_{\\rm {res}} \\over SS_{\\rm {tot}}}\\,}\n",
    "$\n",
    "\n",
    "with \n",
    "\n",
    "$\n",
    "\\quad {\\displaystyle \\color{red}{SS_{\\text{tot}}}=\\sum _{i}(y_{i}-{\\bar {y}})^{2}}\n",
    "$\n",
    "\n",
    "$\n",
    "\\quad {\\displaystyle \\color{blue}{SS_{\\text{res}}}=\\sum _{i}(y_{i}-f_{i})^{2}=\\sum _{i}e_{i}^{2}\\,}\n",
    "$\n",
    "\n",
    "$\n",
    "\\quad {\\bar {y}}={\\frac {1}{n}}\\displaystyle\\sum _{i=1}^{n}y_{i}\n",
    "$\n",
    "\n",
    "Here, <br>\n",
    "&emsp; $i$ is the index of a training sample, <br>\n",
    "&emsp; $y_i$ is the observed outcome variable for training sample $i$, and <br>\n",
    "&emsp; $f_i$ is the predicted outcome outcome for training sample $i$. <br>\n",
    "\n",
    "### Visual\n",
    "\n",
    "<img src=https://raw.githubusercontent.com/sbstn-gbl/learning-from-big-data/master/source/_static/img/r2.png width=\"700\">\n",
    "\n",
    "[(Source)](https://en.wikipedia.org/wiki/Coefficient_of_determination)\n",
    "\n",
    "###  Some questions to consider\n",
    "- Can you describe the coefficient of determination in words?\n",
    "- What does $e_{i}$ in the equations above represent?\n",
    "- How does the visualization relate to the equations above?\n",
    "- What data can the $R^2$ be used for?\n",
    "\n",
    "### Simulate some data"
   ]
  },
  {
   "cell_type": "code",
   "execution_count": 6,
   "metadata": {},
   "outputs": [
    {
     "data": {
      "text/plain": [
       "(array(74.2209235), array([74.05131859]))"
      ]
     },
     "execution_count": 6,
     "metadata": {},
     "output_type": "execute_result"
    }
   ],
   "source": [
    "X, y, coef = sklearn.datasets.make_regression(\n",
    "    n_samples=1_000,\n",
    "    n_features=1,\n",
    "    n_informative=1,\n",
    "    noise=10,\n",
    "    coef=True,\n",
    "    random_state=123,\n",
    ")\n",
    "\n",
    "lr = sklearn.linear_model.LinearRegression()\n",
    "lr_res = lr.fit(X, y)\n",
    "\n",
    "df = pd.DataFrame(\n",
    "    {\n",
    "        \"y\": y,\n",
    "        \"yhat\": lr.predict(X),\n",
    "    }\n",
    ")\n",
    "\n",
    "coef, lr.coef_"
   ]
  },
  {
   "cell_type": "markdown",
   "metadata": {},
   "source": [
    "### Visualize data"
   ]
  },
  {
   "cell_type": "code",
   "execution_count": 7,
   "metadata": {},
   "outputs": [
    {
     "data": {
      "image/png": "[encoded data removed]",
      "text/plain": [
       "<Figure size 648x648 with 1 Axes>"
      ]
     },
     "metadata": {},
     "output_type": "display_data"
    }
   ],
   "source": [
    "y_min = df.values.min()\n",
    "y_max = df.values.max()\n",
    "plt.plot(\n",
    "    [y_min, y_max],\n",
    "    [y_min, y_max],\n",
    "    color=\"navy\",\n",
    "    linestyle=\"--\",\n",
    ")\n",
    "sns.regplot(\n",
    "    x=\"y\",\n",
    "    y=\"yhat\",\n",
    "    data=df,\n",
    "    scatter_kws={\"alpha\": 0.2},\n",
    ")\n",
    "plt.xlabel(\"True\")\n",
    "plt.ylabel(\"Predicted\")\n",
    "plt.show()"
   ]
  },
  {
   "cell_type": "markdown",
   "metadata": {},
   "source": [
    "### Implementation in `sklearn`"
   ]
  },
  {
   "cell_type": "code",
   "execution_count": 8,
   "metadata": {},
   "outputs": [
    {
     "data": {
      "text/plain": [
       "0.9823251907480709"
      ]
     },
     "execution_count": 8,
     "metadata": {},
     "output_type": "execute_result"
    }
   ],
   "source": [
    "r2_skl = sklearn.metrics.r2_score(df[\"y\"], df[\"yhat\"])\n",
    "r2_skl"
   ]
  },
  {
   "cell_type": "markdown",
   "metadata": {},
   "source": [
    "### Manual implementation"
   ]
  },
  {
   "cell_type": "code",
   "execution_count": 9,
   "metadata": {},
   "outputs": [
    {
     "data": {
      "text/plain": [
       "0.9823251907480709"
      ]
     },
     "execution_count": 9,
     "metadata": {},
     "output_type": "execute_result"
    }
   ],
   "source": [
    "ss_tot = np.sum((np.mean(df[\"y\"]) - df[\"y\"]) ** 2)\n",
    "ss_res = np.sum((df[\"yhat\"] - df[\"y\"]) ** 2)\n",
    "r2 = 1 - ss_res / ss_tot\n",
    "r2"
   ]
  },
  {
   "cell_type": "code",
   "execution_count": 10,
   "metadata": {},
   "outputs": [],
   "source": [
    "assert np.abs(r2 - r2_skl) < 1e-12"
   ]
  },
  {
   "cell_type": "markdown",
   "metadata": {},
   "source": [
    "### Comparison to `statsmodels`"
   ]
  },
  {
   "cell_type": "code",
   "execution_count": 11,
   "metadata": {},
   "outputs": [
    {
     "data": {
      "text/html": [
       "<table class=\"simpletable\">\n",
       "<caption>OLS Regression Results</caption>\n",
       "<tr>\n",
       "  <th>Dep. Variable:</th>            <td>y</td>        <th>  R-squared (uncentered):</th>      <td>   0.982</td> \n",
       "</tr>\n",
       "<tr>\n",
       "  <th>Model:</th>                   <td>OLS</td>       <th>  Adj. R-squared (uncentered):</th> <td>   0.982</td> \n",
       "</tr>\n",
       "<tr>\n",
       "  <th>Method:</th>             <td>Least Squares</td>  <th>  F-statistic:       </th>          <td>5.555e+04</td>\n",
       "</tr>\n",
       "<tr>\n",
       "  <th>Date:</th>             <td>Sat, 04 Sep 2021</td> <th>  Prob (F-statistic):</th>           <td>  0.00</td>  \n",
       "</tr>\n",
       "<tr>\n",
       "  <th>Time:</th>                 <td>14:16:32</td>     <th>  Log-Likelihood:    </th>          <td> -3716.0</td> \n",
       "</tr>\n",
       "<tr>\n",
       "  <th>No. Observations:</th>      <td>  1000</td>      <th>  AIC:               </th>          <td>   7434.</td> \n",
       "</tr>\n",
       "<tr>\n",
       "  <th>Df Residuals:</th>          <td>   999</td>      <th>  BIC:               </th>          <td>   7439.</td> \n",
       "</tr>\n",
       "<tr>\n",
       "  <th>Df Model:</th>              <td>     1</td>      <th>                     </th>              <td> </td>    \n",
       "</tr>\n",
       "<tr>\n",
       "  <th>Covariance Type:</th>      <td>nonrobust</td>    <th>                     </th>              <td> </td>    \n",
       "</tr>\n",
       "</table>\n",
       "<table class=\"simpletable\">\n",
       "<tr>\n",
       "   <td></td>     <th>coef</th>     <th>std err</th>      <th>t</th>      <th>P>|t|</th>  <th>[0.025</th>    <th>0.975]</th>  \n",
       "</tr>\n",
       "<tr>\n",
       "  <th>x1</th> <td>   74.0407</td> <td>    0.314</td> <td>  235.695</td> <td> 0.000</td> <td>   73.424</td> <td>   74.657</td>\n",
       "</tr>\n",
       "</table>\n",
       "<table class=\"simpletable\">\n",
       "<tr>\n",
       "  <th>Omnibus:</th>       <td> 0.585</td> <th>  Durbin-Watson:     </th> <td>   2.059</td>\n",
       "</tr>\n",
       "<tr>\n",
       "  <th>Prob(Omnibus):</th> <td> 0.747</td> <th>  Jarque-Bera (JB):  </th> <td>   0.658</td>\n",
       "</tr>\n",
       "<tr>\n",
       "  <th>Skew:</th>          <td> 0.050</td> <th>  Prob(JB):          </th> <td>   0.720</td>\n",
       "</tr>\n",
       "<tr>\n",
       "  <th>Kurtosis:</th>      <td> 2.925</td> <th>  Cond. No.          </th> <td>    1.00</td>\n",
       "</tr>\n",
       "</table><br/><br/>Notes:<br/>[1] R² is computed without centering (uncentered) since the model does not contain a constant.<br/>[2] Standard Errors assume that the covariance matrix of the errors is correctly specified."
      ],
      "text/plain": [
       "<class 'statsmodels.iolib.summary.Summary'>\n",
       "\"\"\"\n",
       "                                 OLS Regression Results                                \n",
       "=======================================================================================\n",
       "Dep. Variable:                      y   R-squared (uncentered):                   0.982\n",
       "Model:                            OLS   Adj. R-squared (uncentered):              0.982\n",
       "Method:                 Least Squares   F-statistic:                          5.555e+04\n",
       "Date:                Sat, 04 Sep 2021   Prob (F-statistic):                        0.00\n",
       "Time:                        14:16:32   Log-Likelihood:                         -3716.0\n",
       "No. Observations:                1000   AIC:                                      7434.\n",
       "Df Residuals:                     999   BIC:                                      7439.\n",
       "Df Model:                           1                                                  \n",
       "Covariance Type:            nonrobust                                                  \n",
       "==============================================================================\n",
       "                 coef    std err          t      P>|t|      [0.025      0.975]\n",
       "------------------------------------------------------------------------------\n",
       "x1            74.0407      0.314    235.695      0.000      73.424      74.657\n",
       "==============================================================================\n",
       "Omnibus:                        0.585   Durbin-Watson:                   2.059\n",
       "Prob(Omnibus):                  0.747   Jarque-Bera (JB):                0.658\n",
       "Skew:                           0.050   Prob(JB):                        0.720\n",
       "Kurtosis:                       2.925   Cond. No.                         1.00\n",
       "==============================================================================\n",
       "\n",
       "Notes:\n",
       "[1] R² is computed without centering (uncentered) since the model does not contain a constant.\n",
       "[2] Standard Errors assume that the covariance matrix of the errors is correctly specified.\n",
       "\"\"\""
      ]
     },
     "execution_count": 11,
     "metadata": {},
     "output_type": "execute_result"
    }
   ],
   "source": [
    "statsmodels.regression.linear_model.OLS(y, X).fit().summary()"
   ]
  },
  {
   "cell_type": "markdown",
   "metadata": {},
   "source": [
    "<br>\n",
    "<br>\n",
    "\n",
    "## 3. &ensp; Silhouette\n",
    "\n",
    "### Mathematical\n",
    "\n",
    "For each point $i$ in your data set:\n",
    "\n",
    "$\n",
    "\\quad {\\displaystyle s(i)={\\frac {b(i)-a(i)}{\\max\\{a(i),b(i)\\}}}}\n",
    "$\n",
    "\n",
    "with\n",
    "\n",
    "$\n",
    "\\quad {\\displaystyle a(i)={\\frac {1}{|C_{i}|-1}}\\sum _{j\\in C_{i},\\ i\\neq j}d(i,j)}\n",
    "$\n",
    "\n",
    "$\n",
    "\\quad {\\displaystyle b(i)=\\min _{k\\neq i}{\\frac {1}{|C_{k}|}}\\sum _{j\\in C_{k}}d(i,j)}\n",
    "$\n",
    "\n",
    "Here, <br>\n",
    "&emsp; $i$ is the index of a point in your data set, <br>\n",
    "&emsp; $d(i,j)$ is the distance between point $i$ and point $j$, <br>\n",
    "&emsp; $C_{i}$ denotes the cluster that contains point $i$, and <br>\n",
    "&emsp; $C_{k}$ denotes cluster $C_{i}$'s neighboring cluster (the cluster with the smallest mean distance of $i$ to all points in the second cluster). <br>\n",
    "\n",
    "Please also have a look at [this sklearn tutorial](https://scikit-learn.org/stable/auto_examples/cluster/plot_kmeans_silhouette_analysis.html#sphx-glr-auto-examples-cluster-plot-kmeans-silhouette-analysis-py) to see how the silhouette score is used in practice.\n",
    "\n",
    "### Visual\n",
    "\n",
    "<img src=https://raw.githubusercontent.com/sbstn-gbl/learning-from-big-data/master/source/_static/img/silhouette.png width=\"600\">\n",
    "\n",
    "### Some questions to consider\n",
    "- How do you aggregate the point-level silhouette scores to a global value across all points?\n",
    "- Can you describe what the silhouette score represents in words?\n",
    "- What are $a(i)$ and $b(i)$?\n",
    "- How does the visualization relate to the equations above?\n",
    "\n",
    "### Simulate some data"
   ]
  },
  {
   "cell_type": "code",
   "execution_count": 12,
   "metadata": {},
   "outputs": [],
   "source": [
    "X, y = sklearn.datasets.make_blobs(\n",
    "    n_samples=1_000,\n",
    "    n_features=2,\n",
    "    centers=4,\n",
    "    cluster_std=1,\n",
    "    center_box=(-10.0, 10.0),\n",
    "    shuffle=True,\n",
    "    random_state=123,\n",
    ")"
   ]
  },
  {
   "cell_type": "markdown",
   "metadata": {},
   "source": [
    "### Implementation in `sklearn`"
   ]
  },
  {
   "cell_type": "code",
   "execution_count": 13,
   "metadata": {},
   "outputs": [
    {
     "data": {
      "text/plain": [
       "0.7572367858256333"
      ]
     },
     "execution_count": 13,
     "metadata": {},
     "output_type": "execute_result"
    }
   ],
   "source": [
    "clusterer = sklearn.cluster.KMeans(\n",
    "    n_clusters=3,\n",
    "    random_state=123,\n",
    ")\n",
    "cluster_labels = clusterer.fit_predict(X)\n",
    "sil_skl = sklearn.metrics.silhouette_score(\n",
    "    X,\n",
    "    cluster_labels,\n",
    ")\n",
    "sil_skl"
   ]
  },
  {
   "cell_type": "code",
   "execution_count": 14,
   "metadata": {},
   "outputs": [
    {
     "data": {
      "text/plain": [
       "array([0.73025532, 0.82151605, 0.69703736, 0.63047648, 0.72695219,\n",
       "       0.72826653, 0.80876974, 0.46690515, 0.74743392, 0.75717757])"
      ]
     },
     "execution_count": 14,
     "metadata": {},
     "output_type": "execute_result"
    }
   ],
   "source": [
    "sil_samples_skl = sklearn.metrics.silhouette_samples(\n",
    "    X,\n",
    "    cluster_labels,\n",
    ")\n",
    "sil_samples_skl[:10]"
   ]
  },
  {
   "cell_type": "markdown",
   "metadata": {},
   "source": [
    "### Manual implementation"
   ]
  },
  {
   "cell_type": "code",
   "execution_count": 15,
   "metadata": {},
   "outputs": [
    {
     "data": {
      "text/plain": [
       "0.7572367858256333"
      ]
     },
     "execution_count": 15,
     "metadata": {},
     "output_type": "execute_result"
    }
   ],
   "source": [
    "dist = sklearn.metrics.pairwise.euclidean_distances(X, X)\n",
    "\n",
    "indices_in = {}\n",
    "for k in np.unique(cluster_labels):\n",
    "    index_k_in = np.where(cluster_labels == k)[0]\n",
    "    indices_in[k] = index_k_in\n",
    "\n",
    "sil_samples = []\n",
    "for i in range(X.shape[0]):\n",
    "    cluster_i = cluster_labels[i]\n",
    "    indices_in_i = indices_in[cluster_i]\n",
    "\n",
    "    a_i = dist[i, indices_in_i].sum() / (len(indices_in_i) - 1)\n",
    "\n",
    "    b_i_k = []\n",
    "    for k in indices_in:\n",
    "        if k != cluster_i:\n",
    "            indices_in_k = indices_in[k]\n",
    "            b_i_k.append(dist[i, indices_in_k].sum() / len(indices_in_k))\n",
    "    b_i = min(b_i_k)\n",
    "    sil_samples.append((b_i - a_i) / np.max([b_i, a_i]))\n",
    "sil = np.mean(sil_samples)\n",
    "sil"
   ]
  },
  {
   "cell_type": "code",
   "execution_count": 16,
   "metadata": {},
   "outputs": [],
   "source": [
    "assert np.abs(sil - sil_skl) < 1e-12\n",
    "assert np.max(np.abs(sil_samples - sil_samples_skl)) < 1e-12"
   ]
  },
  {
   "cell_type": "markdown",
   "metadata": {},
   "source": [
    "<br>\n",
    "<br>\n",
    "\n",
    "## 4. &ensp; AUROC\n",
    "\n",
    "From `sklearn` ([Source](https://scikit-learn.org/stable/modules/model_evaluation.html#roc-metrics)):\n",
    "> A receiver operating characteristic (ROC), or simply ROC curve, is a graphical plot which illustrates the performance of a binary classifier system as its discrimination threshold is varied. It is created by plotting the fraction of true positives out of the positives (TPR = true positive rate) vs. the fraction of false positives out of the negatives (FPR = false positive rate), at various threshold settings. TPR is also known as sensitivity, and FPR is one minus the specificity or true negative rate. [...] The roc_auc_score function computes the area under the receiver operating characteristic (ROC) curve, which is also denoted by AUC or AUROC.\n",
    "\n",
    "### Confusion matrix\n",
    "\n",
    "<img src=https://raw.githubusercontent.com/sbstn-gbl/learning-from-big-data/master/source/_static/img/confusion.png width=\"1300\">\n",
    "\n",
    "[(Source)](https://en.wikipedia.org/wiki/Confusion_matrix)\n",
    "\n",
    "\n",
    "### Some questions to consider\n",
    "- What is a key advantage of the AUROC score?\n",
    "- How is the AUROC related to the confusion matrix?\n",
    "- What other AUC metrics do you know?\n",
    "\n",
    "### Simulate some data"
   ]
  },
  {
   "cell_type": "code",
   "execution_count": 17,
   "metadata": {},
   "outputs": [],
   "source": [
    "X, y = sklearn.datasets.make_classification(\n",
    "    n_samples=1_000,\n",
    "    n_classes=2,\n",
    "    n_features=20,\n",
    "    random_state=123,\n",
    ")\n",
    "X_train, X_test, y_train, y_test = sklearn.model_selection.train_test_split(\n",
    "    X,\n",
    "    y,\n",
    "    test_size=0.3,\n",
    "    random_state=123,\n",
    ")\n",
    "\n",
    "model1 = sklearn.linear_model.LogisticRegression()\n",
    "model1.fit(X_train, y_train)\n",
    "\n",
    "df = pd.DataFrame({\"y\": y_test, \"p\": model1.predict_proba(X_test)[:, 1]})"
   ]
  },
  {
   "cell_type": "markdown",
   "metadata": {},
   "source": [
    "### Implementation in `sklearn`"
   ]
  },
  {
   "cell_type": "code",
   "execution_count": 18,
   "metadata": {},
   "outputs": [
    {
     "data": {
      "text/plain": [
       "0.9850573174539453"
      ]
     },
     "execution_count": 18,
     "metadata": {},
     "output_type": "execute_result"
    }
   ],
   "source": [
    "auc_skl = sklearn.metrics.roc_auc_score(df[\"y\"], df[\"p\"])\n",
    "auc_skl"
   ]
  },
  {
   "cell_type": "code",
   "execution_count": 19,
   "metadata": {},
   "outputs": [],
   "source": [
    "fpr_skl, tpr_skl, _ = sklearn.metrics.roc_curve(df[\"y\"], df[\"p\"])"
   ]
  },
  {
   "cell_type": "markdown",
   "metadata": {},
   "source": [
    "### Plot ROC Curve"
   ]
  },
  {
   "cell_type": "code",
   "execution_count": 20,
   "metadata": {},
   "outputs": [],
   "source": [
    "def plot_roc_curve(fpr, tpr):\n",
    "    plt.plot(fpr, tpr, color=\"darkorange\", lw=2)\n",
    "    plt.plot([0, 1], [0, 1], color=\"navy\", lw=2, linestyle=\"--\")\n",
    "    plt.xlim([0.0, 1.0])\n",
    "    plt.ylim([0.0, 1.05])\n",
    "    plt.xlabel(\"False Positive Rate\")\n",
    "    plt.ylabel(\"True Positive Rate\")\n",
    "    plt.title(\"Receiver Operating Characteristic Curve\")\n",
    "    plt.show()"
   ]
  },
  {
   "cell_type": "code",
   "execution_count": 21,
   "metadata": {},
   "outputs": [
    {
     "data": {
      "image/png": "[encoded data removed]",
      "text/plain": [
       "<Figure size 648x648 with 1 Axes>"
      ]
     },
     "metadata": {},
     "output_type": "display_data"
    }
   ],
   "source": [
    "plot_roc_curve(fpr_skl, tpr_skl)"
   ]
  },
  {
   "cell_type": "markdown",
   "metadata": {},
   "source": [
    "### Manual implementation"
   ]
  },
  {
   "cell_type": "code",
   "execution_count": 22,
   "metadata": {},
   "outputs": [],
   "source": [
    "df_sorted = df.sort_values(\"p\", ascending=False)\n",
    "\n",
    "# compute true positive and false positive rate\n",
    "n_positive = df_sorted[\"y\"].sum()\n",
    "n_negative = (1 - df_sorted[\"y\"]).sum()\n",
    "assert (n_positive + n_negative) == df.shape[0]\n",
    "\n",
    "df_sorted[\"tpr\"] = df_sorted[\"y\"].cumsum() / n_positive\n",
    "df_sorted[\"fpr\"] = (1 - df_sorted[\"y\"]).cumsum() / n_negative\n",
    "\n",
    "# compute auc\n",
    "fpr_tpr = df_sorted.groupby(\"fpr\")[[\"tpr\"]].max().reset_index()\n",
    "delta_x = np.diff(fpr_tpr[\"fpr\"].values)\n",
    "delta_y = fpr_tpr[\"tpr\"].shift(1)[1:].values\n",
    "auc = delta_x.dot(delta_y)"
   ]
  },
  {
   "cell_type": "code",
   "execution_count": 23,
   "metadata": {},
   "outputs": [],
   "source": [
    "assert np.abs(auc - auc_skl) < 1e-12"
   ]
  },
  {
   "cell_type": "code",
   "execution_count": 24,
   "metadata": {},
   "outputs": [
    {
     "data": {
      "image/png": "[encoded data removed]",
      "text/plain": [
       "<Figure size 648x648 with 1 Axes>"
      ]
     },
     "metadata": {},
     "output_type": "display_data"
    }
   ],
   "source": [
    "plot_roc_curve(df_sorted[\"fpr\"], df_sorted[\"tpr\"])"
   ]
  },
  {
   "cell_type": "markdown",
   "metadata": {},
   "source": [
    "<br>\n",
    "<br>\n",
    "&mdash; <br>\n",
    "Sebastian Gabel <br>\n",
    "`Learning from Big Data` 2021/22 <br>"
   ]
  }
 ],
 "metadata": {
  "kernelspec": {
   "display_name": "Python 3",
   "language": "python",
   "name": "python3"
  },
  "language_info": {
   "codemirror_mode": {
    "name": "ipython",
    "version": 3
   },
   "file_extension": ".py",
   "mimetype": "text/x-python",
   "name": "python",
   "nbconvert_exporter": "python",
   "pygments_lexer": "ipython3",
   "version": "3.8.2"
  }
 },
 "nbformat": 4,
 "nbformat_minor": 4
}

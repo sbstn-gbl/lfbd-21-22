{
 "cells": [
  {
   "cell_type": "markdown",
   "metadata": {},
   "source": [
    "# Decision trees\n",
    "\n",
    "In this notebook, we will implement a simple decision tree algorithm. The notebook will cover the following steps:\n",
    "\n",
    "1. Load a data set (Dr. D)\n",
    "2. Build a reference solution using `sklearn`\n",
    "3. Compare three metrics to quantify node impurity (entropy, gini, misclassification error)\n",
    "4. Build our own implementation of `information gain` (used to make splits in decision trees)\n",
    "5. Build a decision tree class\n",
    "6. Test the predict method\n",
    "7. Build a small tree explorer app that allows us to see how hyperparameters affect tree construction"
   ]
  },
  {
   "cell_type": "code",
   "execution_count": 1,
   "metadata": {},
   "outputs": [],
   "source": [
    "import common\n",
    "import graphviz\n",
    "import IPython.display\n",
    "import ipywidgets\n",
    "import matplotlib.pyplot as plt\n",
    "import numpy as np\n",
    "import pandas as pd\n",
    "import sklearn.tree\n",
    "import yaml"
   ]
  },
  {
   "cell_type": "markdown",
   "metadata": {},
   "source": [
    "## Load data"
   ]
  },
  {
   "cell_type": "code",
   "execution_count": 2,
   "metadata": {},
   "outputs": [],
   "source": [
    "df = pd.read_parquet(\"dr_d_grocery.parquet\")\n",
    "features = [\n",
    "    \"average_revenue\",\n",
    "    \"average_basket_size\",\n",
    "    \"fraction_canned_food\",\n",
    "    \"fraction_national_brands\",\n",
    "]\n",
    "target_names = df[\"segment_name\"].unique()"
   ]
  },
  {
   "cell_type": "code",
   "execution_count": 3,
   "metadata": {},
   "outputs": [],
   "source": [
    "X = df[features].values\n",
    "y = df[\"segment_name\"].values"
   ]
  },
  {
   "cell_type": "code",
   "execution_count": 4,
   "metadata": {},
   "outputs": [
    {
     "data": {
      "text/plain": [
       "(150, 4)"
      ]
     },
     "execution_count": 4,
     "metadata": {},
     "output_type": "execute_result"
    }
   ],
   "source": [
    "X.shape"
   ]
  },
  {
   "cell_type": "code",
   "execution_count": 5,
   "metadata": {},
   "outputs": [
    {
     "data": {
      "text/plain": [
       "150"
      ]
     },
     "execution_count": 5,
     "metadata": {},
     "output_type": "execute_result"
    }
   ],
   "source": [
    "len(y)"
   ]
  },
  {
   "cell_type": "markdown",
   "metadata": {},
   "source": [
    "<br>\n",
    "\n",
    "## Let's meet the customers"
   ]
  },
  {
   "cell_type": "code",
   "execution_count": 6,
   "metadata": {},
   "outputs": [
    {
     "data": {
      "text/plain": [
       "segment_name\n",
       "The Obnoxious Teens     50\n",
       "The Prepper             50\n",
       "The Shopper-for-Hire    50\n",
       "Name: shopper_id, dtype: int64"
      ]
     },
     "execution_count": 6,
     "metadata": {},
     "output_type": "execute_result"
    }
   ],
   "source": [
    "df.groupby(\"segment_name\").shopper_id.count()"
   ]
  },
  {
   "cell_type": "markdown",
   "metadata": {},
   "source": [
    "### Customer Type 1: The Prepper\n",
    "\n",
    "<img src=\"https://raw.githubusercontent.com/sbstn-gbl/learning-from-big-data/master/source/_static/img/type-prepper.gif\" width=\"600\">\n",
    "\n",
    "### Customer Type 2: The Obnoxious Teens\n",
    "\n",
    "<img src=\"https://raw.githubusercontent.com/sbstn-gbl/learning-from-big-data/master/source/_static/img/type-teens.gif\" width=\"600\">\n",
    "\n",
    "### Customer Type 3: The Shopper-for-Hire\n",
    "\n",
    "<img src=\"https://raw.githubusercontent.com/sbstn-gbl/learning-from-big-data/master/source/_static/img/type-shopper-hire.gif\" width=\"600\">\n",
    "\n",
    "[(Source)](https://www.mandatory.com/living/1545648-10-kinds-of-shoppers-youll-encounter-coronavirus-pandemic#7)\n",
    "\n",
    "<br>\n",
    "\n",
    "## Reference implementation in `sklearn`"
   ]
  },
  {
   "cell_type": "markdown",
   "metadata": {},
   "source": [
    "### Defne tree parameters\n",
    "\n",
    "- Impurity = Entropy\n",
    "- Limit depth to 8 (tree will actually stop after 5 levels)\n",
    "\n",
    "Check out the tree explorer at the end of the notebook to study the effects of hyperparameters on the resulting tree."
   ]
  },
  {
   "cell_type": "code",
   "execution_count": 7,
   "metadata": {},
   "outputs": [],
   "source": [
    "config_tree = {\n",
    "    \"criterion\": \"entropy\",\n",
    "    \"max_depth\": 5,\n",
    "    \"random_state\": 123,\n",
    "}"
   ]
  },
  {
   "cell_type": "markdown",
   "metadata": {},
   "source": [
    "### Train decision tree"
   ]
  },
  {
   "cell_type": "code",
   "execution_count": 8,
   "metadata": {},
   "outputs": [],
   "source": [
    "tree = sklearn.tree.DecisionTreeClassifier(**config_tree)\n",
    "tree = tree.fit(X, y)"
   ]
  },
  {
   "cell_type": "markdown",
   "metadata": {},
   "source": [
    "### Visualize decision tree\n",
    "\n",
    "Note the following observations:\n",
    "- Pure nodes consisting of only one class\n",
    "- Splitting reduces entropy\n",
    "- Some terminal nodes contain very few samples, so we should consider early stopping to regularize tree"
   ]
  },
  {
   "cell_type": "code",
   "execution_count": 9,
   "metadata": {},
   "outputs": [
    {
     "data": {
      "image/svg+xml": [
       "<?xml version=\"1.0\" encoding=\"UTF-8\" standalone=\"no\"?>\n",
       "<!DOCTYPE svg PUBLIC \"-//W3C//DTD SVG 1.1//EN\"\n",
       " \"http://www.w3.org/Graphics/SVG/1.1/DTD/svg11.dtd\">\n",
       "<!-- Generated by graphviz version 2.49.0 (20210828.1703)\n",
       " -->\n",
       "<!-- Title: Tree Pages: 1 -->\n",
       "<svg width=\"601pt\" height=\"671pt\"\n",
       " viewBox=\"0.00 0.00 601.00 671.00\" xmlns=\"http://www.w3.org/2000/svg\" xmlns:xlink=\"http://www.w3.org/1999/xlink\">\n",
       "<g id=\"graph0\" class=\"graph\" transform=\"scale(1 1) rotate(0) translate(4 667)\">\n",
       "<title>Tree</title>\n",
       "<polygon fill=\"white\" stroke=\"transparent\" points=\"-4,4 -4,-667 597,-667 597,4 -4,4\"/>\n",
       "<!-- 0 -->\n",
       "<g id=\"node1\" class=\"node\">\n",
       "<title>0</title>\n",
       "<path fill=\"#ffffff\" stroke=\"black\" d=\"M299,-663C299,-663 123,-663 123,-663 117,-663 111,-657 111,-651 111,-651 111,-592 111,-592 111,-586 117,-580 123,-580 123,-580 299,-580 299,-580 305,-580 311,-586 311,-592 311,-592 311,-651 311,-651 311,-657 305,-663 299,-663\"/>\n",
       "<text text-anchor=\"start\" x=\"123\" y=\"-647.8\" font-family=\"Helvetica,sans-Serif\" font-size=\"14.00\">average_revenue ≤ 231.877</text>\n",
       "<text text-anchor=\"start\" x=\"162\" y=\"-632.8\" font-family=\"Helvetica,sans-Serif\" font-size=\"14.00\">entropy = 1.585</text>\n",
       "<text text-anchor=\"start\" x=\"165\" y=\"-617.8\" font-family=\"Helvetica,sans-Serif\" font-size=\"14.00\">samples = 150</text>\n",
       "<text text-anchor=\"start\" x=\"151\" y=\"-602.8\" font-family=\"Helvetica,sans-Serif\" font-size=\"14.00\">value = [50, 50, 50]</text>\n",
       "<text text-anchor=\"start\" x=\"119\" y=\"-587.8\" font-family=\"Helvetica,sans-Serif\" font-size=\"14.00\">class = The Obnoxious Teens</text>\n",
       "</g>\n",
       "<!-- 1 -->\n",
       "<g id=\"node2\" class=\"node\">\n",
       "<title>1</title>\n",
       "<path fill=\"#e58139\" stroke=\"black\" d=\"M188,-536.5C188,-536.5 12,-536.5 12,-536.5 6,-536.5 0,-530.5 0,-524.5 0,-524.5 0,-480.5 0,-480.5 0,-474.5 6,-468.5 12,-468.5 12,-468.5 188,-468.5 188,-468.5 194,-468.5 200,-474.5 200,-480.5 200,-480.5 200,-524.5 200,-524.5 200,-530.5 194,-536.5 188,-536.5\"/>\n",
       "<text text-anchor=\"start\" x=\"58.5\" y=\"-521.3\" font-family=\"Helvetica,sans-Serif\" font-size=\"14.00\">entropy = 0.0</text>\n",
       "<text text-anchor=\"start\" x=\"58\" y=\"-506.3\" font-family=\"Helvetica,sans-Serif\" font-size=\"14.00\">samples = 50</text>\n",
       "<text text-anchor=\"start\" x=\"48\" y=\"-491.3\" font-family=\"Helvetica,sans-Serif\" font-size=\"14.00\">value = [50, 0, 0]</text>\n",
       "<text text-anchor=\"start\" x=\"8\" y=\"-476.3\" font-family=\"Helvetica,sans-Serif\" font-size=\"14.00\">class = The Obnoxious Teens</text>\n",
       "</g>\n",
       "<!-- 0&#45;&gt;1 -->\n",
       "<g id=\"edge1\" class=\"edge\">\n",
       "<title>0&#45;&gt;1</title>\n",
       "<path fill=\"none\" stroke=\"black\" d=\"M172.49,-579.91C161.5,-568.32 149.52,-555.7 138.53,-544.11\"/>\n",
       "<polygon fill=\"black\" stroke=\"black\" points=\"140.89,-541.51 131.47,-536.67 135.81,-546.33 140.89,-541.51\"/>\n",
       "<text text-anchor=\"middle\" x=\"130.81\" y=\"-557.96\" font-family=\"Helvetica,sans-Serif\" font-size=\"14.00\">True</text>\n",
       "</g>\n",
       "<!-- 2 -->\n",
       "<g id=\"node3\" class=\"node\">\n",
       "<title>2</title>\n",
       "<path fill=\"#ffffff\" stroke=\"black\" d=\"M413.5,-544C413.5,-544 230.5,-544 230.5,-544 224.5,-544 218.5,-538 218.5,-532 218.5,-532 218.5,-473 218.5,-473 218.5,-467 224.5,-461 230.5,-461 230.5,-461 413.5,-461 413.5,-461 419.5,-461 425.5,-467 425.5,-473 425.5,-473 425.5,-532 425.5,-532 425.5,-538 419.5,-544 413.5,-544\"/>\n",
       "<text text-anchor=\"start\" x=\"226.5\" y=\"-528.8\" font-family=\"Helvetica,sans-Serif\" font-size=\"14.00\">average_basket_size ≤ 29.649</text>\n",
       "<text text-anchor=\"start\" x=\"280.5\" y=\"-513.8\" font-family=\"Helvetica,sans-Serif\" font-size=\"14.00\">entropy = 1.0</text>\n",
       "<text text-anchor=\"start\" x=\"276\" y=\"-498.8\" font-family=\"Helvetica,sans-Serif\" font-size=\"14.00\">samples = 100</text>\n",
       "<text text-anchor=\"start\" x=\"266\" y=\"-483.8\" font-family=\"Helvetica,sans-Serif\" font-size=\"14.00\">value = [0, 50, 50]</text>\n",
       "<text text-anchor=\"start\" x=\"259\" y=\"-468.8\" font-family=\"Helvetica,sans-Serif\" font-size=\"14.00\">class = The Prepper</text>\n",
       "</g>\n",
       "<!-- 0&#45;&gt;2 -->\n",
       "<g id=\"edge2\" class=\"edge\">\n",
       "<title>0&#45;&gt;2</title>\n",
       "<path fill=\"none\" stroke=\"black\" d=\"M249.51,-579.91C258.21,-570.74 267.52,-560.93 276.47,-551.49\"/>\n",
       "<polygon fill=\"black\" stroke=\"black\" points=\"279.21,-553.68 283.56,-544.02 274.14,-548.87 279.21,-553.68\"/>\n",
       "<text text-anchor=\"middle\" x=\"284.21\" y=\"-565.31\" font-family=\"Helvetica,sans-Serif\" font-size=\"14.00\">False</text>\n",
       "</g>\n",
       "<!-- 3 -->\n",
       "<g id=\"node4\" class=\"node\">\n",
       "<title>3</title>\n",
       "<path fill=\"#8139e5\" stroke=\"black\" d=\"M300,-417.5C300,-417.5 128,-417.5 128,-417.5 122,-417.5 116,-411.5 116,-405.5 116,-405.5 116,-361.5 116,-361.5 116,-355.5 122,-349.5 128,-349.5 128,-349.5 300,-349.5 300,-349.5 306,-349.5 312,-355.5 312,-361.5 312,-361.5 312,-405.5 312,-405.5 312,-411.5 306,-417.5 300,-417.5\"/>\n",
       "<text text-anchor=\"start\" x=\"172.5\" y=\"-402.3\" font-family=\"Helvetica,sans-Serif\" font-size=\"14.00\">entropy = 0.0</text>\n",
       "<text text-anchor=\"start\" x=\"172\" y=\"-387.3\" font-family=\"Helvetica,sans-Serif\" font-size=\"14.00\">samples = 40</text>\n",
       "<text text-anchor=\"start\" x=\"162\" y=\"-372.3\" font-family=\"Helvetica,sans-Serif\" font-size=\"14.00\">value = [0, 0, 40]</text>\n",
       "<text text-anchor=\"start\" x=\"124\" y=\"-357.3\" font-family=\"Helvetica,sans-Serif\" font-size=\"14.00\">class = The Shopper&#45;for&#45;Hire</text>\n",
       "</g>\n",
       "<!-- 2&#45;&gt;3 -->\n",
       "<g id=\"edge3\" class=\"edge\">\n",
       "<title>2&#45;&gt;3</title>\n",
       "<path fill=\"none\" stroke=\"black\" d=\"M284.53,-460.91C273.83,-449.32 262.18,-436.7 251.49,-425.11\"/>\n",
       "<polygon fill=\"black\" stroke=\"black\" points=\"253.97,-422.64 244.62,-417.67 248.83,-427.39 253.97,-422.64\"/>\n",
       "</g>\n",
       "<!-- 4 -->\n",
       "<g id=\"node5\" class=\"node\">\n",
       "<title>4</title>\n",
       "<path fill=\"#61ea9a\" stroke=\"black\" d=\"M517.5,-425C517.5,-425 342.5,-425 342.5,-425 336.5,-425 330.5,-419 330.5,-413 330.5,-413 330.5,-354 330.5,-354 330.5,-348 336.5,-342 342.5,-342 342.5,-342 517.5,-342 517.5,-342 523.5,-342 529.5,-348 529.5,-354 529.5,-354 529.5,-413 529.5,-413 529.5,-419 523.5,-425 517.5,-425\"/>\n",
       "<text text-anchor=\"start\" x=\"338.5\" y=\"-409.8\" font-family=\"Helvetica,sans-Serif\" font-size=\"14.00\">average_basket_size ≤ 37.34</text>\n",
       "<text text-anchor=\"start\" x=\"385\" y=\"-394.8\" font-family=\"Helvetica,sans-Serif\" font-size=\"14.00\">entropy = 0.65</text>\n",
       "<text text-anchor=\"start\" x=\"388\" y=\"-379.8\" font-family=\"Helvetica,sans-Serif\" font-size=\"14.00\">samples = 60</text>\n",
       "<text text-anchor=\"start\" x=\"374\" y=\"-364.8\" font-family=\"Helvetica,sans-Serif\" font-size=\"14.00\">value = [0, 50, 10]</text>\n",
       "<text text-anchor=\"start\" x=\"367\" y=\"-349.8\" font-family=\"Helvetica,sans-Serif\" font-size=\"14.00\">class = The Prepper</text>\n",
       "</g>\n",
       "<!-- 2&#45;&gt;4 -->\n",
       "<g id=\"edge4\" class=\"edge\">\n",
       "<title>2&#45;&gt;4</title>\n",
       "<path fill=\"none\" stroke=\"black\" d=\"M359.47,-460.91C367.93,-451.74 376.99,-441.93 385.7,-432.49\"/>\n",
       "<polygon fill=\"black\" stroke=\"black\" points=\"388.39,-434.74 392.6,-425.02 383.24,-429.99 388.39,-434.74\"/>\n",
       "</g>\n",
       "<!-- 5 -->\n",
       "<g id=\"node6\" class=\"node\">\n",
       "<title>5</title>\n",
       "<path fill=\"#d1f9e2\" stroke=\"black\" d=\"M421,-306C421,-306 253,-306 253,-306 247,-306 241,-300 241,-294 241,-294 241,-235 241,-235 241,-229 247,-223 253,-223 253,-223 421,-223 421,-223 427,-223 433,-229 433,-235 433,-235 433,-294 433,-294 433,-300 427,-306 421,-306\"/>\n",
       "<text text-anchor=\"start\" x=\"249\" y=\"-290.8\" font-family=\"Helvetica,sans-Serif\" font-size=\"14.00\">average_revenue ≤ 541.159</text>\n",
       "<text text-anchor=\"start\" x=\"288\" y=\"-275.8\" font-family=\"Helvetica,sans-Serif\" font-size=\"14.00\">entropy = 0.988</text>\n",
       "<text text-anchor=\"start\" x=\"295\" y=\"-260.8\" font-family=\"Helvetica,sans-Serif\" font-size=\"14.00\">samples = 23</text>\n",
       "<text text-anchor=\"start\" x=\"281\" y=\"-245.8\" font-family=\"Helvetica,sans-Serif\" font-size=\"14.00\">value = [0, 13, 10]</text>\n",
       "<text text-anchor=\"start\" x=\"274\" y=\"-230.8\" font-family=\"Helvetica,sans-Serif\" font-size=\"14.00\">class = The Prepper</text>\n",
       "</g>\n",
       "<!-- 4&#45;&gt;5 -->\n",
       "<g id=\"edge5\" class=\"edge\">\n",
       "<title>4&#45;&gt;5</title>\n",
       "<path fill=\"none\" stroke=\"black\" d=\"M397.73,-341.91C390.59,-332.92 382.96,-323.32 375.59,-314.05\"/>\n",
       "<polygon fill=\"black\" stroke=\"black\" points=\"378.17,-311.67 369.21,-306.02 372.69,-316.03 378.17,-311.67\"/>\n",
       "</g>\n",
       "<!-- 10 -->\n",
       "<g id=\"node11\" class=\"node\">\n",
       "<title>10</title>\n",
       "<path fill=\"#39e581\" stroke=\"black\" d=\"M581,-298.5C581,-298.5 463,-298.5 463,-298.5 457,-298.5 451,-292.5 451,-286.5 451,-286.5 451,-242.5 451,-242.5 451,-236.5 457,-230.5 463,-230.5 463,-230.5 581,-230.5 581,-230.5 587,-230.5 593,-236.5 593,-242.5 593,-242.5 593,-286.5 593,-286.5 593,-292.5 587,-298.5 581,-298.5\"/>\n",
       "<text text-anchor=\"start\" x=\"480.5\" y=\"-283.3\" font-family=\"Helvetica,sans-Serif\" font-size=\"14.00\">entropy = 0.0</text>\n",
       "<text text-anchor=\"start\" x=\"480\" y=\"-268.3\" font-family=\"Helvetica,sans-Serif\" font-size=\"14.00\">samples = 37</text>\n",
       "<text text-anchor=\"start\" x=\"470\" y=\"-253.3\" font-family=\"Helvetica,sans-Serif\" font-size=\"14.00\">value = [0, 37, 0]</text>\n",
       "<text text-anchor=\"start\" x=\"459\" y=\"-238.3\" font-family=\"Helvetica,sans-Serif\" font-size=\"14.00\">class = The Prepper</text>\n",
       "</g>\n",
       "<!-- 4&#45;&gt;10 -->\n",
       "<g id=\"edge10\" class=\"edge\">\n",
       "<title>4&#45;&gt;10</title>\n",
       "<path fill=\"none\" stroke=\"black\" d=\"M461.92,-341.91C470.86,-330.54 480.58,-318.18 489.55,-306.77\"/>\n",
       "<polygon fill=\"black\" stroke=\"black\" points=\"492.49,-308.69 495.92,-298.67 486.99,-304.36 492.49,-308.69\"/>\n",
       "</g>\n",
       "<!-- 6 -->\n",
       "<g id=\"node7\" class=\"node\">\n",
       "<title>6</title>\n",
       "<path fill=\"#d9c4f7\" stroke=\"black\" d=\"M330,-187C330,-187 158,-187 158,-187 152,-187 146,-181 146,-175 146,-175 146,-116 146,-116 146,-110 152,-104 158,-104 158,-104 330,-104 330,-104 336,-104 342,-110 342,-116 342,-116 342,-175 342,-175 342,-181 336,-187 330,-187\"/>\n",
       "<text text-anchor=\"start\" x=\"156\" y=\"-171.8\" font-family=\"Helvetica,sans-Serif\" font-size=\"14.00\">average_revenue ≤ 435.086</text>\n",
       "<text text-anchor=\"start\" x=\"195\" y=\"-156.8\" font-family=\"Helvetica,sans-Serif\" font-size=\"14.00\">entropy = 0.977</text>\n",
       "<text text-anchor=\"start\" x=\"202\" y=\"-141.8\" font-family=\"Helvetica,sans-Serif\" font-size=\"14.00\">samples = 17</text>\n",
       "<text text-anchor=\"start\" x=\"192\" y=\"-126.8\" font-family=\"Helvetica,sans-Serif\" font-size=\"14.00\">value = [0, 7, 10]</text>\n",
       "<text text-anchor=\"start\" x=\"154\" y=\"-111.8\" font-family=\"Helvetica,sans-Serif\" font-size=\"14.00\">class = The Shopper&#45;for&#45;Hire</text>\n",
       "</g>\n",
       "<!-- 5&#45;&gt;6 -->\n",
       "<g id=\"edge6\" class=\"edge\">\n",
       "<title>5&#45;&gt;6</title>\n",
       "<path fill=\"none\" stroke=\"black\" d=\"M304.73,-222.91C297.59,-213.92 289.96,-204.32 282.59,-195.05\"/>\n",
       "<polygon fill=\"black\" stroke=\"black\" points=\"285.17,-192.67 276.21,-187.02 279.69,-197.03 285.17,-192.67\"/>\n",
       "</g>\n",
       "<!-- 9 -->\n",
       "<g id=\"node10\" class=\"node\">\n",
       "<title>9</title>\n",
       "<path fill=\"#39e581\" stroke=\"black\" d=\"M490,-179.5C490,-179.5 372,-179.5 372,-179.5 366,-179.5 360,-173.5 360,-167.5 360,-167.5 360,-123.5 360,-123.5 360,-117.5 366,-111.5 372,-111.5 372,-111.5 490,-111.5 490,-111.5 496,-111.5 502,-117.5 502,-123.5 502,-123.5 502,-167.5 502,-167.5 502,-173.5 496,-179.5 490,-179.5\"/>\n",
       "<text text-anchor=\"start\" x=\"389.5\" y=\"-164.3\" font-family=\"Helvetica,sans-Serif\" font-size=\"14.00\">entropy = 0.0</text>\n",
       "<text text-anchor=\"start\" x=\"393\" y=\"-149.3\" font-family=\"Helvetica,sans-Serif\" font-size=\"14.00\">samples = 6</text>\n",
       "<text text-anchor=\"start\" x=\"382.5\" y=\"-134.3\" font-family=\"Helvetica,sans-Serif\" font-size=\"14.00\">value = [0, 6, 0]</text>\n",
       "<text text-anchor=\"start\" x=\"368\" y=\"-119.3\" font-family=\"Helvetica,sans-Serif\" font-size=\"14.00\">class = The Prepper</text>\n",
       "</g>\n",
       "<!-- 5&#45;&gt;9 -->\n",
       "<g id=\"edge9\" class=\"edge\">\n",
       "<title>5&#45;&gt;9</title>\n",
       "<path fill=\"none\" stroke=\"black\" d=\"M369.61,-222.91C378.74,-211.54 388.68,-199.18 397.84,-187.77\"/>\n",
       "<polygon fill=\"black\" stroke=\"black\" points=\"400.82,-189.65 404.35,-179.67 395.36,-185.27 400.82,-189.65\"/>\n",
       "</g>\n",
       "<!-- 7 -->\n",
       "<g id=\"node8\" class=\"node\">\n",
       "<title>7</title>\n",
       "<path fill=\"#8139e5\" stroke=\"black\" d=\"M237,-68C237,-68 65,-68 65,-68 59,-68 53,-62 53,-56 53,-56 53,-12 53,-12 53,-6 59,0 65,0 65,0 237,0 237,0 243,0 249,-6 249,-12 249,-12 249,-56 249,-56 249,-62 243,-68 237,-68\"/>\n",
       "<text text-anchor=\"start\" x=\"109.5\" y=\"-52.8\" font-family=\"Helvetica,sans-Serif\" font-size=\"14.00\">entropy = 0.0</text>\n",
       "<text text-anchor=\"start\" x=\"113\" y=\"-37.8\" font-family=\"Helvetica,sans-Serif\" font-size=\"14.00\">samples = 4</text>\n",
       "<text text-anchor=\"start\" x=\"102.5\" y=\"-22.8\" font-family=\"Helvetica,sans-Serif\" font-size=\"14.00\">value = [0, 0, 4]</text>\n",
       "<text text-anchor=\"start\" x=\"61\" y=\"-7.8\" font-family=\"Helvetica,sans-Serif\" font-size=\"14.00\">class = The Shopper&#45;for&#45;Hire</text>\n",
       "</g>\n",
       "<!-- 6&#45;&gt;7 -->\n",
       "<g id=\"edge7\" class=\"edge\">\n",
       "<title>6&#45;&gt;7</title>\n",
       "<path fill=\"none\" stroke=\"black\" d=\"M209.37,-103.73C201.7,-94.7 193.57,-85.12 185.89,-76.08\"/>\n",
       "<polygon fill=\"black\" stroke=\"black\" points=\"188.42,-73.66 179.28,-68.3 183.09,-78.19 188.42,-73.66\"/>\n",
       "</g>\n",
       "<!-- 8 -->\n",
       "<g id=\"node9\" class=\"node\">\n",
       "<title>8</title>\n",
       "<path fill=\"#e3fbed\" stroke=\"black\" d=\"M397,-68C397,-68 279,-68 279,-68 273,-68 267,-62 267,-56 267,-56 267,-12 267,-12 267,-6 273,0 279,0 279,0 397,0 397,0 403,0 409,-6 409,-12 409,-12 409,-56 409,-56 409,-62 403,-68 397,-68\"/>\n",
       "<text text-anchor=\"start\" x=\"289\" y=\"-52.8\" font-family=\"Helvetica,sans-Serif\" font-size=\"14.00\">entropy = 0.996</text>\n",
       "<text text-anchor=\"start\" x=\"296\" y=\"-37.8\" font-family=\"Helvetica,sans-Serif\" font-size=\"14.00\">samples = 13</text>\n",
       "<text text-anchor=\"start\" x=\"289.5\" y=\"-22.8\" font-family=\"Helvetica,sans-Serif\" font-size=\"14.00\">value = [0, 7, 6]</text>\n",
       "<text text-anchor=\"start\" x=\"275\" y=\"-7.8\" font-family=\"Helvetica,sans-Serif\" font-size=\"14.00\">class = The Prepper</text>\n",
       "</g>\n",
       "<!-- 6&#45;&gt;8 -->\n",
       "<g id=\"edge8\" class=\"edge\">\n",
       "<title>6&#45;&gt;8</title>\n",
       "<path fill=\"none\" stroke=\"black\" d=\"M279,-103.73C286.75,-94.7 294.97,-85.12 302.73,-76.08\"/>\n",
       "<polygon fill=\"black\" stroke=\"black\" points=\"305.56,-78.17 309.41,-68.3 300.24,-73.61 305.56,-78.17\"/>\n",
       "</g>\n",
       "</g>\n",
       "</svg>\n"
      ],
      "text/plain": [
       "<graphviz.files.Source at 0x144799400>"
      ]
     },
     "execution_count": 9,
     "metadata": {},
     "output_type": "execute_result"
    }
   ],
   "source": [
    "dot_data = sklearn.tree.export_graphviz(\n",
    "    tree,\n",
    "    out_file=None,\n",
    "    feature_names=features,\n",
    "    class_names=target_names,\n",
    "    filled=True,\n",
    "    rounded=True,\n",
    "    special_characters=True,\n",
    ")\n",
    "graphviz.Source(dot_data)"
   ]
  },
  {
   "cell_type": "markdown",
   "metadata": {},
   "source": [
    "<br> \n",
    "\n",
    "## Background\n",
    "\n",
    "### Information gain ($IG$)\n",
    "\n",
    "We'll split a node if information gain is larger than 0:\n",
    "\n",
    "$\n",
    "\\quad {\\displaystyle IG(\\mathcal{D}_{parent}, \\mathcal{D}_{left}, \\mathcal{D}_{right}) = \n",
    "    H(\\mathcal{D}_{parent}) - \\frac{N_{left}}{N_{parent}} H(\\mathcal{D}_{left}) - \\frac{N_{right}}{N_{parent}} H(\\mathcal{D}_{right})}\n",
    "$\n",
    "\n",
    "- $IG$: Information Gain\n",
    "- $N_{parent}$: number of samples in the parent node\n",
    "- $N_{left}$: number of samples in the left child node\n",
    "- $N_{right}$: number of samples in the right child node\n",
    "- $H$: Shannon entropy\n",
    "- $\\mathcal{D}_{parent}, \\mathcal{D}_{left}, \\mathcal{D}_{right}$: data sets (parent and child nodes)\n",
    "\n",
    "### Shannon entropy $H$\n",
    "Entropy $H$ is defined as \n",
    "\n",
    "$\n",
    "\\quad E = - \\displaystyle\\sum_i p_i \\log_2 p_i\n",
    "$\n",
    "\n",
    "### Minimum Impurity Decrease \n",
    "\n",
    "- Decide when to stop splitting nodes (in addition to pure nodes)\n",
    "- Node will be split of this split induces a decrease of the impurity greater (or equal) to MID\n",
    "- MID functions as a threshold\n",
    "\n",
    "$\n",
    "{\\displaystyle\n",
    "\\quad MID = \\frac{N_{parent}}{N_{total}} \\left[ H(\\mathcal{D}_{parent}) - \\frac{N_{left}}{N_{parent}} H(\\mathcal{D}_{left}) - \\frac{N_{right}}{N_{parent}} H(\\mathcal{D}_{right}) \\right]\n",
    "}\n",
    "$\n",
    "\n",
    "### Impurity measures\n",
    "\n",
    "#### Entropy\n",
    "\n",
    "With proportion $p(j|t)$ of samples in class $j$ at node $t$:\n",
    "\n",
    "$\n",
    "\\quad {\\displaystyle H(t) = - \\sum_{j=1}^k p(j|t) \\log_2 p(j|t)}\n",
    "$\n",
    "\n",
    "Optimal entropy is 0 when all samples at a node belong to the same class"
   ]
  },
  {
   "cell_type": "code",
   "execution_count": 10,
   "metadata": {},
   "outputs": [],
   "source": [
    "def entropy(p):\n",
    "    return -p * np.log2(p) - (1 - p) * np.log2((1 - p))"
   ]
  },
  {
   "cell_type": "markdown",
   "metadata": {},
   "source": [
    "#### Gini Index\n",
    "\n",
    "$\n",
    "\\quad {\\displaystyle G(t) = 1 - \\sum_{j=1}^k \\big(p(j|t)\\big)^2}\n",
    "$\n",
    "\n",
    "Minimized when all samples at a node belong to the same class. Maximal value for $p(j|t) = \\frac 1 k$."
   ]
  },
  {
   "cell_type": "code",
   "execution_count": 11,
   "metadata": {},
   "outputs": [],
   "source": [
    "def gini(p):\n",
    "    return 1 - np.power(p, 2) - np.power((1 - p), 2)"
   ]
  },
  {
   "cell_type": "markdown",
   "metadata": {},
   "source": [
    "#### Misclassification error\n",
    "\n",
    "$\n",
    "\\quad {\\displaystyle MC(t) = 1 - \\max_k p(j|t)}\n",
    "$"
   ]
  },
  {
   "cell_type": "code",
   "execution_count": 12,
   "metadata": {},
   "outputs": [],
   "source": [
    "def error(p):\n",
    "    return 1 - np.max([p, 1 - p], axis=0)"
   ]
  },
  {
   "cell_type": "markdown",
   "metadata": {},
   "source": [
    "#### Comparison"
   ]
  },
  {
   "cell_type": "code",
   "execution_count": 13,
   "metadata": {},
   "outputs": [
    {
     "data": {
      "image/png": "[encoded data removed]",
      "text/plain": [
       "<Figure size 648x576 with 1 Axes>"
      ]
     },
     "metadata": {},
     "output_type": "display_data"
    }
   ],
   "source": [
    "x = np.arange(0.01, 1.0, 0.01)\n",
    "\n",
    "plt.figure(figsize=(9, 8))\n",
    "plt.plot(x, entropy(x), linewidth=2, label=\"Entropy\", c=\"b\")\n",
    "plt.plot(\n",
    "    x, entropy(x) / 2, linewidth=2, label=\"Entropy (Scaled)\", c=\"b\", linestyle=\"--\"\n",
    ")\n",
    "plt.plot(x, gini(x), linewidth=2, label=\"Gini Impurity\", c=\"darkorange\")\n",
    "plt.plot(x, error(x), linewidth=2, label=\"Misclassification Error\", c=\"m\")\n",
    "\n",
    "plt.legend(\n",
    "    loc=\"lower center\",\n",
    "    ncol=1,\n",
    "    fontsize=14,\n",
    ")\n",
    "\n",
    "plt.axhline(y=0.5, linestyle=\"--\", c=\"k\", zorder=1, linewidth=1)\n",
    "plt.xlabel(\"p\", fontsize=14)\n",
    "plt.ylabel(\"Impurity\", fontsize=14)\n",
    "plt.show()"
   ]
  },
  {
   "cell_type": "markdown",
   "metadata": {},
   "source": [
    "## Some first steps for building our own tree"
   ]
  },
  {
   "cell_type": "code",
   "execution_count": 14,
   "metadata": {},
   "outputs": [
    {
     "data": {
      "text/plain": [
       "['average_revenue',\n",
       " 'average_basket_size',\n",
       " 'fraction_canned_food',\n",
       " 'fraction_national_brands']"
      ]
     },
     "execution_count": 14,
     "metadata": {},
     "output_type": "execute_result"
    }
   ],
   "source": [
    "features"
   ]
  },
  {
   "cell_type": "markdown",
   "metadata": {},
   "source": [
    "### Let's look at a single feature"
   ]
  },
  {
   "cell_type": "code",
   "execution_count": 15,
   "metadata": {},
   "outputs": [],
   "source": [
    "values = X[:, 0]\n",
    "unique_values = np.sort(np.unique(values))"
   ]
  },
  {
   "cell_type": "markdown",
   "metadata": {},
   "source": [
    "#### All possible cutoff values"
   ]
  },
  {
   "cell_type": "code",
   "execution_count": 16,
   "metadata": {},
   "outputs": [],
   "source": [
    "cutoffs = (unique_values[:-1] + unique_values[1:]) / 2"
   ]
  },
  {
   "cell_type": "code",
   "execution_count": 17,
   "metadata": {},
   "outputs": [],
   "source": [
    "for i, cutoff in enumerate(cutoffs):\n",
    "    i, cutoff"
   ]
  },
  {
   "cell_type": "code",
   "execution_count": 18,
   "metadata": {},
   "outputs": [
    {
     "data": {
      "text/plain": [
       "231.87727039349355"
      ]
     },
     "execution_count": 18,
     "metadata": {},
     "output_type": "execute_result"
    }
   ],
   "source": [
    "i = 49\n",
    "cutoff = cutoffs[i]\n",
    "cutoff"
   ]
  },
  {
   "cell_type": "markdown",
   "metadata": {},
   "source": [
    "#### Implement split based on feature"
   ]
  },
  {
   "cell_type": "code",
   "execution_count": 19,
   "metadata": {},
   "outputs": [],
   "source": [
    "yhat = X[:, 0] <= cutoff"
   ]
  },
  {
   "cell_type": "code",
   "execution_count": 20,
   "metadata": {},
   "outputs": [
    {
     "data": {
      "text/plain": [
       "array([ True,  True,  True,  True,  True,  True,  True,  True,  True,\n",
       "        True,  True,  True,  True,  True,  True,  True,  True,  True,\n",
       "        True,  True,  True,  True,  True,  True,  True,  True,  True,\n",
       "        True,  True,  True,  True,  True,  True,  True,  True,  True,\n",
       "        True,  True,  True,  True,  True,  True,  True,  True,  True,\n",
       "        True,  True,  True,  True,  True, False, False, False, False,\n",
       "       False, False, False, False, False, False, False, False, False,\n",
       "       False, False, False, False, False, False, False, False, False,\n",
       "       False, False, False, False, False, False, False, False, False,\n",
       "       False, False, False, False, False, False, False, False, False,\n",
       "       False, False, False, False, False, False, False, False, False,\n",
       "       False, False, False, False, False, False, False, False, False,\n",
       "       False, False, False, False, False, False, False, False, False,\n",
       "       False, False, False, False, False, False, False, False, False,\n",
       "       False, False, False, False, False, False, False, False, False,\n",
       "       False, False, False, False, False, False, False, False, False,\n",
       "       False, False, False, False, False, False])"
      ]
     },
     "execution_count": 20,
     "metadata": {},
     "output_type": "execute_result"
    }
   ],
   "source": [
    "yhat"
   ]
  },
  {
   "cell_type": "markdown",
   "metadata": {},
   "source": [
    "#### Entropy: Parent node"
   ]
  },
  {
   "cell_type": "code",
   "execution_count": 21,
   "metadata": {},
   "outputs": [],
   "source": [
    "def compute_entropy(y):\n",
    "    # number of samples\n",
    "    n = len(y)\n",
    "    # unique classes in `y_class`\n",
    "    classes = set(y)\n",
    "\n",
    "    # compute number of observations in each class\n",
    "    n_c = np.zeros(len(classes))\n",
    "    # compute probability for a sample to be in class\n",
    "    p_c = np.zeros(len(classes))\n",
    "    # compute entropy for each class\n",
    "    e_c = np.zeros(len(classes))\n",
    "\n",
    "    # computation\n",
    "    for i, c in enumerate(classes):\n",
    "        n_c[i] = np.sum(y == c)\n",
    "        p_c[i] = n_c[i] / n\n",
    "        e_c[i] = -p_c[i] * np.log2(p_c[i])\n",
    "    assert n == sum(n_c)\n",
    "\n",
    "    # total entropy\n",
    "    e_p = np.sum(e_c)\n",
    "\n",
    "    # return\n",
    "    return e_p, n"
   ]
  },
  {
   "cell_type": "code",
   "execution_count": 22,
   "metadata": {},
   "outputs": [
    {
     "data": {
      "text/plain": [
       "(1.584962500721156, 150)"
      ]
     },
     "execution_count": 22,
     "metadata": {},
     "output_type": "execute_result"
    }
   ],
   "source": [
    "e_p, n_p = compute_entropy(y)\n",
    "e_p, n_p"
   ]
  },
  {
   "cell_type": "markdown",
   "metadata": {},
   "source": [
    "#### Entropy: Left child node"
   ]
  },
  {
   "cell_type": "code",
   "execution_count": 23,
   "metadata": {},
   "outputs": [
    {
     "data": {
      "text/plain": [
       "array([ True,  True,  True,  True,  True,  True,  True,  True,  True,\n",
       "        True,  True,  True,  True,  True,  True,  True,  True,  True,\n",
       "        True,  True,  True,  True,  True,  True,  True,  True,  True,\n",
       "        True,  True,  True,  True,  True,  True,  True,  True,  True,\n",
       "        True,  True,  True,  True,  True,  True,  True,  True,  True,\n",
       "        True,  True,  True,  True,  True, False, False, False, False,\n",
       "       False, False, False, False, False, False, False, False, False,\n",
       "       False, False, False, False, False, False, False, False, False,\n",
       "       False, False, False, False, False, False, False, False, False,\n",
       "       False, False, False, False, False, False, False, False, False,\n",
       "       False, False, False, False, False, False, False, False, False,\n",
       "       False, False, False, False, False, False, False, False, False,\n",
       "       False, False, False, False, False, False, False, False, False,\n",
       "       False, False, False, False, False, False, False, False, False,\n",
       "       False, False, False, False, False, False, False, False, False,\n",
       "       False, False, False, False, False, False, False, False, False,\n",
       "       False, False, False, False, False, False])"
      ]
     },
     "execution_count": 23,
     "metadata": {},
     "output_type": "execute_result"
    }
   ],
   "source": [
    "yhat"
   ]
  },
  {
   "cell_type": "code",
   "execution_count": 24,
   "metadata": {},
   "outputs": [
    {
     "data": {
      "text/plain": [
       "array(['The Obnoxious Teens', 'The Obnoxious Teens',\n",
       "       'The Obnoxious Teens', 'The Obnoxious Teens',\n",
       "       'The Obnoxious Teens', 'The Obnoxious Teens',\n",
       "       'The Obnoxious Teens', 'The Obnoxious Teens',\n",
       "       'The Obnoxious Teens', 'The Obnoxious Teens',\n",
       "       'The Obnoxious Teens', 'The Obnoxious Teens',\n",
       "       'The Obnoxious Teens', 'The Obnoxious Teens',\n",
       "       'The Obnoxious Teens', 'The Obnoxious Teens',\n",
       "       'The Obnoxious Teens', 'The Obnoxious Teens',\n",
       "       'The Obnoxious Teens', 'The Obnoxious Teens',\n",
       "       'The Obnoxious Teens', 'The Obnoxious Teens',\n",
       "       'The Obnoxious Teens', 'The Obnoxious Teens',\n",
       "       'The Obnoxious Teens', 'The Obnoxious Teens',\n",
       "       'The Obnoxious Teens', 'The Obnoxious Teens',\n",
       "       'The Obnoxious Teens', 'The Obnoxious Teens',\n",
       "       'The Obnoxious Teens', 'The Obnoxious Teens',\n",
       "       'The Obnoxious Teens', 'The Obnoxious Teens',\n",
       "       'The Obnoxious Teens', 'The Obnoxious Teens',\n",
       "       'The Obnoxious Teens', 'The Obnoxious Teens',\n",
       "       'The Obnoxious Teens', 'The Obnoxious Teens',\n",
       "       'The Obnoxious Teens', 'The Obnoxious Teens',\n",
       "       'The Obnoxious Teens', 'The Obnoxious Teens',\n",
       "       'The Obnoxious Teens', 'The Obnoxious Teens',\n",
       "       'The Obnoxious Teens', 'The Obnoxious Teens',\n",
       "       'The Obnoxious Teens', 'The Obnoxious Teens'], dtype=object)"
      ]
     },
     "execution_count": 24,
     "metadata": {},
     "output_type": "execute_result"
    }
   ],
   "source": [
    "y[yhat]"
   ]
  },
  {
   "cell_type": "code",
   "execution_count": 25,
   "metadata": {},
   "outputs": [
    {
     "data": {
      "text/plain": [
       "(0.0, 50)"
      ]
     },
     "execution_count": 25,
     "metadata": {},
     "output_type": "execute_result"
    }
   ],
   "source": [
    "e_cl, n_cl = compute_entropy(y[yhat])\n",
    "e_cl, n_cl"
   ]
  },
  {
   "cell_type": "markdown",
   "metadata": {},
   "source": [
    "#### Entropy: Right child node"
   ]
  },
  {
   "cell_type": "code",
   "execution_count": 26,
   "metadata": {},
   "outputs": [
    {
     "data": {
      "text/plain": [
       "(1.0, 100)"
      ]
     },
     "execution_count": 26,
     "metadata": {},
     "output_type": "execute_result"
    }
   ],
   "source": [
    "e_cr, n_cr = compute_entropy(y[~yhat])\n",
    "e_cr, n_cr"
   ]
  },
  {
   "cell_type": "markdown",
   "metadata": {},
   "source": [
    "#### Derive information gain"
   ]
  },
  {
   "cell_type": "code",
   "execution_count": 27,
   "metadata": {},
   "outputs": [
    {
     "data": {
      "text/plain": [
       "(1.584962500721156, 0.6666666666666666)"
      ]
     },
     "execution_count": 27,
     "metadata": {},
     "output_type": "execute_result"
    }
   ],
   "source": [
    "entropy_before = e_p  # parent node\n",
    "entropy_after = n_cl / n_p * e_cl + n_cr / n_p * e_cr  # children nodes\n",
    "entropy_before, entropy_after"
   ]
  },
  {
   "cell_type": "code",
   "execution_count": 28,
   "metadata": {},
   "outputs": [
    {
     "data": {
      "text/plain": [
       "0.9182958340544894"
      ]
     },
     "execution_count": 28,
     "metadata": {},
     "output_type": "execute_result"
    }
   ],
   "source": [
    "entropy_before - entropy_after"
   ]
  },
  {
   "cell_type": "markdown",
   "metadata": {},
   "source": [
    "## Reminder: Training algorithm\n",
    "\n",
    "<img src=\"https://raw.githubusercontent.com/sbstn-gbl/learning-from-big-data/master/source/_static/img/trees-stopping.png\" width=\"800px\">\n",
    "\n",
    "## Manual implementation: Our decision tree class"
   ]
  },
  {
   "cell_type": "code",
   "execution_count": 29,
   "metadata": {},
   "outputs": [],
   "source": [
    "class DecisionTree:\n",
    "    def __init__(\n",
    "        self, feature_names, class_names, class_values, max_depth=5, eps=1e-8, verbose=0\n",
    "    ):\n",
    "        self.feature_names = feature_names\n",
    "        self.class_names = class_names\n",
    "        self.class_values = class_values\n",
    "\n",
    "        self.max_depth = max_depth\n",
    "        self.eps = eps  # break ties in information gain\n",
    "        self.verbose = verbose\n",
    "\n",
    "    def fit(self, X, y, depth, seeds):\n",
    "        \"\"\"\n",
    "        Tree builder. This is a recursive function. Break for pure nodes or when max tree depth is reached.\n",
    "        \"\"\"\n",
    "\n",
    "        # all `y` belong to the same class (pure node) -> terminate\n",
    "        if len(np.unique(y)) == 1:\n",
    "            return self._final_node(y)\n",
    "\n",
    "        # reached `max_depth` -> terminate\n",
    "        elif depth >= self.max_depth:\n",
    "            return self._final_node(y)\n",
    "\n",
    "        # add splits\n",
    "        else:\n",
    "\n",
    "            if depth < len(seeds):\n",
    "                np.random.seed(seeds[depth])\n",
    "\n",
    "            # find one split given an information gain\n",
    "            column_chosen, cutoff_chosen, split_chosen, ig_chosen = self._find_split(\n",
    "                X, y\n",
    "            )\n",
    "            node = {\n",
    "                \"entropy\": float(round(self._entropy(y), 4)),\n",
    "                \"column\": int(column_chosen),\n",
    "                \"cutoff\": float(np.round(cutoff_chosen, 4)),\n",
    "                \"table\": self._table(y),\n",
    "                \"split\": f\"{self.feature_names[column_chosen]} <= {cutoff_chosen:.4f}\",\n",
    "            }\n",
    "            # generate new child trees\n",
    "            node[\"-left\"] = self.fit(\n",
    "                X[split_chosen, :], y[split_chosen], depth + 1, seeds\n",
    "            )\n",
    "            node[\"-right\"] = self.fit(\n",
    "                X[~split_chosen, :], y[~split_chosen], depth + 1, seeds\n",
    "            )\n",
    "\n",
    "            self.fitted_tree = node\n",
    "\n",
    "        return node\n",
    "\n",
    "    def predict(self, X):\n",
    "        \"\"\"\n",
    "        Walk through tree for new data samples.\n",
    "        \"\"\"\n",
    "        predictions = np.zeros(len(X), dtype=np.int)\n",
    "        for i, xi in enumerate(X):  # for each row in test data\n",
    "            node = self.fitted_tree\n",
    "            while node.get(\"cutoff\"):\n",
    "                if xi[node[\"column\"]] <= node[\"cutoff\"]:\n",
    "                    node = node[\"-left\"]\n",
    "                else:\n",
    "                    node = node[\"-right\"]\n",
    "            else:\n",
    "                predictions[i] = node.get(\"value\")\n",
    "        return predictions\n",
    "\n",
    "    def _find_split(self, X, y):\n",
    "        \"\"\"\n",
    "        Determine whether to split a parent node and which feature/cutoff to use.\n",
    "        \"\"\"\n",
    "        scores = []\n",
    "\n",
    "        # loop over features\n",
    "        for c in range(X.shape[1]):\n",
    "\n",
    "            values = X[:, c]\n",
    "\n",
    "            # loop over possible cutoffs\n",
    "            unique_values = np.sort(np.unique(values))\n",
    "            cutoffs = (unique_values[:-1] + unique_values[1:]) / 2\n",
    "            for i, cutoff in enumerate(cutoffs):\n",
    "                # split\n",
    "                yhat = yhat = X[:, c] <= cutoff\n",
    "\n",
    "                # entropy calculation\n",
    "                entropy_parent = self._entropy(y)\n",
    "                entropy_child_left = self._entropy(y[yhat])\n",
    "                entropy_child_right = self._entropy(y[~yhat])\n",
    "\n",
    "                # information gain\n",
    "                information_gain = (\n",
    "                    entropy_parent\n",
    "                    - np.mean(yhat) * entropy_child_left\n",
    "                    - np.mean(~yhat) * entropy_child_right\n",
    "                )\n",
    "\n",
    "                # save and log\n",
    "                scores.append(\n",
    "                    [\n",
    "                        c,\n",
    "                        cutoff,\n",
    "                        len(yhat),\n",
    "                        sum(yhat),\n",
    "                        sum(~yhat),\n",
    "                        information_gain,\n",
    "                        entropy_parent,\n",
    "                    ]\n",
    "                )\n",
    "                self._log(\n",
    "                    f\"col={c} | cutoff={cutoff:.2f} | gain={information_gain:.8f} | ent={entropy_parent:.4f}\"\n",
    "                )\n",
    "\n",
    "        scores = pd.DataFrame(\n",
    "            scores, columns=[\"column\", \"cutoff\", \"np\", \"ncl\", \"ncr\", \"ig\", \"ep\"]\n",
    "        )\n",
    "        # break ties\n",
    "        scores[\"ig\"] += np.random.uniform(-self.eps, self.eps, scores.shape[0])\n",
    "        #\n",
    "        scores = scores.sort_values(\"ig\", ascending=False)\n",
    "\n",
    "        column_chosen = scores[\"column\"].values[0]\n",
    "        cutoff_chosen = scores[\"cutoff\"].values[0]\n",
    "        split_chosen = X[:, column_chosen] <= cutoff_chosen\n",
    "        ig_chosen = scores[\"ig\"].values[0]\n",
    "        ig_all = scores[\"ig\"].values\n",
    "        return column_chosen, cutoff_chosen, split_chosen, ig_chosen  # , ig_all\n",
    "\n",
    "    def _final_node(self, y):\n",
    "        return {\n",
    "            \"entropy\": float(round(self._entropy(y), 4)),\n",
    "            \"table\": self._table(y),\n",
    "            \"value\": self._mode(y),\n",
    "        }\n",
    "\n",
    "    def _table(self, y):\n",
    "        return \" | \".join([f\"{yi}: {np.sum(y==yi)}\" for yi in self.class_values])\n",
    "\n",
    "    def _log(self, x):\n",
    "        if self.verbose > 0:\n",
    "            print(x)\n",
    "\n",
    "    @staticmethod\n",
    "    def _entropy(y):\n",
    "        \"\"\"\n",
    "        Entropy calculation.\n",
    "        \"\"\"\n",
    "        n = len(y)\n",
    "        classes = set(y)\n",
    "        n_c = np.zeros(len(classes))\n",
    "        p_c = np.zeros(len(classes))\n",
    "        e_c = np.zeros(len(classes))\n",
    "        for i, c in enumerate(classes):\n",
    "            n_c[i] = np.sum(y == c)\n",
    "            p_c[i] = n_c[i] / n\n",
    "            e_c[i] = -p_c[i] * np.log2(p_c[i])\n",
    "        return np.sum(e_c)\n",
    "\n",
    "    @staticmethod\n",
    "    def _mode(x):\n",
    "        \"\"\"\n",
    "        Majority vote with tie breaker.\n",
    "        \"\"\"\n",
    "        values, counts = np.unique(x, return_counts=True)\n",
    "        return int(np.random.choice(values[counts == np.max(counts)]))"
   ]
  },
  {
   "cell_type": "markdown",
   "metadata": {},
   "source": [
    "### Fit"
   ]
  },
  {
   "cell_type": "code",
   "execution_count": 30,
   "metadata": {},
   "outputs": [],
   "source": [
    "map_target_names = {\n",
    "    \"The Obnoxious Teens\": 0,\n",
    "    \"The Prepper\": 1,\n",
    "    \"The Shopper-for-Hire\": 2,\n",
    "}"
   ]
  },
  {
   "cell_type": "code",
   "execution_count": 31,
   "metadata": {},
   "outputs": [],
   "source": [
    "y_bin = np.array([map_target_names[yi] for yi in y])"
   ]
  },
  {
   "cell_type": "code",
   "execution_count": 32,
   "metadata": {},
   "outputs": [],
   "source": [
    "decision_tree = DecisionTree(\n",
    "    feature_names=features,\n",
    "    class_names=target_names,\n",
    "    class_values=set(map_target_names.values()),\n",
    ")\n",
    "assert set(y_bin) == set(range(len(target_names)))\n",
    "\n",
    "res = decision_tree.fit(X, y_bin, 0, seeds=[19])"
   ]
  },
  {
   "cell_type": "markdown",
   "metadata": {},
   "source": [
    "### Inspect results\n",
    "\n",
    "This is not pretty, but clearly illustrates the key insihgts :)"
   ]
  },
  {
   "cell_type": "code",
   "execution_count": 33,
   "metadata": {},
   "outputs": [
    {
     "data": {
      "text/plain": [
       "['average_revenue',\n",
       " 'average_basket_size',\n",
       " 'fraction_canned_food',\n",
       " 'fraction_national_brands']"
      ]
     },
     "execution_count": 33,
     "metadata": {},
     "output_type": "execute_result"
    }
   ],
   "source": [
    "features"
   ]
  },
  {
   "cell_type": "code",
   "execution_count": 34,
   "metadata": {},
   "outputs": [
    {
     "name": "stdout",
     "output_type": "stream",
     "text": [
      "entropy: 1.585\n",
      "column: 0\n",
      "cutoff: 231.8773\n",
      "table: '0: 50 | 1: 50 | 2: 50'\n",
      "split: average_revenue <= 231.8773\n",
      "-left:\n",
      "    entropy: 0.0\n",
      "    table: '0: 50 | 1: 0 | 2: 0'\n",
      "    value: 0\n",
      "-right:\n",
      "    entropy: 1.0\n",
      "    column: 1\n",
      "    cutoff: 29.6488\n",
      "    table: '0: 0 | 1: 50 | 2: 50'\n",
      "    split: average_basket_size <= 29.6488\n",
      "    -left:\n",
      "        entropy: 0.0\n",
      "        table: '0: 0 | 1: 0 | 2: 40'\n",
      "        value: 2\n",
      "    -right:\n",
      "        entropy: 0.65\n",
      "        column: 1\n",
      "        cutoff: 37.3401\n",
      "        table: '0: 0 | 1: 50 | 2: 10'\n",
      "        split: average_basket_size <= 37.3401\n",
      "        -left:\n",
      "            entropy: 0.9877\n",
      "            column: 0\n",
      "            cutoff: 541.1592\n",
      "            table: '0: 0 | 1: 13 | 2: 10'\n",
      "            split: average_revenue <= 541.1592\n",
      "            -left:\n",
      "                entropy: 0.9774\n",
      "                column: 0\n",
      "                cutoff: 435.0863\n",
      "                table: '0: 0 | 1: 7 | 2: 10'\n",
      "                split: average_revenue <= 435.0863\n",
      "                -left:\n",
      "                    entropy: 0.0\n",
      "                    table: '0: 0 | 1: 0 | 2: 4'\n",
      "                    value: 2\n",
      "                -right:\n",
      "                    entropy: 0.9957\n",
      "                    table: '0: 0 | 1: 7 | 2: 6'\n",
      "                    value: 1\n",
      "            -right:\n",
      "                entropy: 0.0\n",
      "                table: '0: 0 | 1: 6 | 2: 0'\n",
      "                value: 1\n",
      "        -right:\n",
      "            entropy: 0.0\n",
      "            table: '0: 0 | 1: 37 | 2: 0'\n",
      "            value: 1\n",
      "\n"
     ]
    }
   ],
   "source": [
    "print(yaml.dump(decision_tree.fitted_tree, indent=4, sort_keys=False))"
   ]
  },
  {
   "cell_type": "markdown",
   "metadata": {},
   "source": [
    "### Make predictions"
   ]
  },
  {
   "cell_type": "code",
   "execution_count": 35,
   "metadata": {},
   "outputs": [
    {
     "data": {
      "text/plain": [
       "array([0, 0, 0, 0, 0, 0, 0, 0, 0, 0, 0, 0, 0, 0, 0, 0, 0, 0, 0, 0, 0, 0,\n",
       "       0, 0, 0, 0, 0, 0, 0, 0, 0, 0, 0, 0, 0, 0, 0, 0, 0, 0, 0, 0, 0, 0,\n",
       "       0, 0, 0, 0, 0, 0, 1, 1, 1, 1, 1, 1, 1, 1, 1, 1, 1, 1, 1, 1, 1, 1,\n",
       "       1, 1, 1, 1, 1, 1, 1, 1, 1, 1, 1, 1, 1, 1, 1, 1, 1, 1, 1, 1, 1, 1,\n",
       "       1, 1, 1, 1, 1, 1, 1, 1, 1, 1, 1, 1, 2, 1, 2, 2, 2, 2, 2, 2, 2, 2,\n",
       "       1, 2, 2, 2, 2, 2, 2, 2, 2, 1, 2, 2, 2, 2, 2, 2, 2, 2, 2, 2, 2, 2,\n",
       "       2, 2, 2, 2, 2, 2, 2, 1, 2, 2, 2, 2, 2, 1, 1, 2, 2, 2])"
      ]
     },
     "execution_count": 35,
     "metadata": {},
     "output_type": "execute_result"
    }
   ],
   "source": [
    "decision_tree.predict(X)"
   ]
  },
  {
   "cell_type": "markdown",
   "metadata": {},
   "source": [
    "## Tree explorer\n",
    "\n",
    "Ensure that you have `ipywidgets` (and notebook/lab) extension installed:\n",
    "\n",
    "    pip install ipywidgets\n",
    "    jupyter nbextension enable --py widgetsnbextension\n",
    "    jupyter labextension install @jupyter-widgets/jupyterlab-manager"
   ]
  },
  {
   "cell_type": "code",
   "execution_count": 36,
   "metadata": {},
   "outputs": [],
   "source": [
    "def plot_tree(**kwargs):\n",
    "\n",
    "    decision_tree = sklearn.tree.DecisionTreeClassifier(random_state=123, **kwargs).fit(\n",
    "        X, y\n",
    "    )\n",
    "\n",
    "    graph = graphviz.Source(\n",
    "        sklearn.tree.export_graphviz(\n",
    "            decision_tree,\n",
    "            out_file=None,\n",
    "            feature_names=features,\n",
    "            class_names=target_names,\n",
    "            rounded=True,\n",
    "            filled=True,\n",
    "        )\n",
    "    )\n",
    "    IPython.display.display(IPython.display.SVG(graph.pipe(format=\"svg\")))\n",
    "\n",
    "    return decision_tree"
   ]
  },
  {
   "cell_type": "code",
   "execution_count": 37,
   "metadata": {},
   "outputs": [
    {
     "data": {
      "application/vnd.jupyter.widget-view+json": {
       "model_id": "008178f3826748d8b0b53f4ed50c5754",
       "version_major": 2,
       "version_minor": 0
      },
      "text/plain": [
       "interactive(children=(Dropdown(description='criterion', options=('gini', 'entropy'), value='gini'), Dropdown(d…"
      ]
     },
     "metadata": {},
     "output_type": "display_data"
    }
   ],
   "source": [
    "IPython.display.display(\n",
    "    ipywidgets.interactive(\n",
    "        plot_tree,\n",
    "        criterion=[\"gini\", \"entropy\"],\n",
    "        max_depth=[2, 3, 4],\n",
    "        max_features=(1, 4),\n",
    "        min_samples_split=(2, 10),\n",
    "        min_impurity_decrease=(0.0, 0.5),\n",
    "        min_samples_leaf=(2, 20),\n",
    "        max_leaf_nodes=(2, 20),\n",
    "    )\n",
    ")"
   ]
  },
  {
   "cell_type": "markdown",
   "metadata": {},
   "source": [
    "<br>\n",
    "<br>\n",
    "&mdash; <br>\n",
    "Sebastian Gabel <br>\n",
    "`Learning from Big Data`, Module 2, Lecture 06 <br>\n",
    "2021/22 <br>"
   ]
  }
 ],
 "metadata": {
  "kernelspec": {
   "display_name": "Python 3",
   "language": "python",
   "name": "python3"
  },
  "language_info": {
   "codemirror_mode": {
    "name": "ipython",
    "version": 3
   },
   "file_extension": ".py",
   "mimetype": "text/x-python",
   "name": "python",
   "nbconvert_exporter": "python",
   "pygments_lexer": "ipython3",
   "version": "3.8.2"
  }
 },
 "nbformat": 4,
 "nbformat_minor": 4
}
